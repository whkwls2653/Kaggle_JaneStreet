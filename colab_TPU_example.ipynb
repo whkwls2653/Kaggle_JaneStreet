{
  "nbformat": 4,
  "nbformat_minor": 0,
  "metadata": {
    "colab": {
      "name": "colab_TPU_example.ipynb",
      "provenance": [],
      "collapsed_sections": [],
      "authorship_tag": "ABX9TyP9YPpNAqxqvrd+eaAgKnNH",
      "include_colab_link": true
    },
    "kernelspec": {
      "name": "python3",
      "display_name": "Python 3"
    },
    "accelerator": "TPU"
  },
  "cells": [
    {
      "cell_type": "markdown",
      "metadata": {
        "id": "view-in-github",
        "colab_type": "text"
      },
      "source": [
        "<a href=\"https://colab.research.google.com/github/whkwls2653/Kaggle_JaneStreet/blob/main/colab_TPU_example.ipynb\" target=\"_parent\"><img src=\"https://colab.research.google.com/assets/colab-badge.svg\" alt=\"Open In Colab\"/></a>"
      ]
    },
    {
      "cell_type": "code",
      "metadata": {
        "colab": {
          "base_uri": "https://localhost:8080/"
        },
        "id": "_pAxmjWsCwgm",
        "outputId": "edef387a-0313-4f61-d4ee-9897042045fa"
      },
      "source": [
        "from google.colab import drive\r\n",
        "drive.mount('/content/gdrive')"
      ],
      "execution_count": 16,
      "outputs": [
        {
          "output_type": "stream",
          "text": [
            "Mounted at /content/gdrive\n"
          ],
          "name": "stdout"
        }
      ]
    },
    {
      "cell_type": "code",
      "metadata": {
        "colab": {
          "base_uri": "https://localhost:8080/"
        },
        "id": "sPBDvmGuW532",
        "outputId": "82d5d3c4-a730-445b-ffb4-ab346c495edc"
      },
      "source": [
        "if 'train' in globals():\r\n",
        "  print(\"there\")\r\n",
        "else:\r\n",
        "  print('no')"
      ],
      "execution_count": 14,
      "outputs": [
        {
          "output_type": "stream",
          "text": [
            "no\n"
          ],
          "name": "stdout"
        }
      ]
    },
    {
      "cell_type": "code",
      "metadata": {
        "colab": {
          "base_uri": "https://localhost:8080/"
        },
        "id": "jCYBJ8B0ZRcG",
        "outputId": "24980862-3481-4de3-b3d1-e93438b73e07"
      },
      "source": [
        "########################################여기 참조하세요!!!!!!!!!!!!!!#####################\r\n",
        "resolver = tf.distribute.cluster_resolver.TPUClusterResolver(tpu='grpc://' + os.environ['COLAB_TPU_ADDR'])\r\n",
        "tf.config.experimental_connect_to_cluster(resolver)\r\n",
        "# This is the TPU initialization code that has to be at the beginning.\r\n",
        "tf.tpu.experimental.initialize_tpu_system(resolver)\r\n",
        "print(\"All devices: \", tf.config.list_logical_devices('TPU'))\r\n",
        "strategy = tf.distribute.TPUStrategy(resolver)\r\n",
        "########################################여기 참조하세요!!!!!!!!!!!!!!#####################"
      ],
      "execution_count": 21,
      "outputs": [
        {
          "output_type": "stream",
          "text": [
            "INFO:tensorflow:Initializing the TPU system: grpc://10.119.239.250:8470\n"
          ],
          "name": "stdout"
        },
        {
          "output_type": "stream",
          "text": [
            "INFO:tensorflow:Initializing the TPU system: grpc://10.119.239.250:8470\n"
          ],
          "name": "stderr"
        },
        {
          "output_type": "stream",
          "text": [
            "INFO:tensorflow:Clearing out eager caches\n"
          ],
          "name": "stdout"
        },
        {
          "output_type": "stream",
          "text": [
            "INFO:tensorflow:Clearing out eager caches\n"
          ],
          "name": "stderr"
        },
        {
          "output_type": "stream",
          "text": [
            "INFO:tensorflow:Finished initializing TPU system.\n"
          ],
          "name": "stdout"
        },
        {
          "output_type": "stream",
          "text": [
            "INFO:tensorflow:Finished initializing TPU system.\n"
          ],
          "name": "stderr"
        },
        {
          "output_type": "stream",
          "text": [
            "All devices:  [LogicalDevice(name='/job:worker/replica:0/task:0/device:TPU:7', device_type='TPU'), LogicalDevice(name='/job:worker/replica:0/task:0/device:TPU:6', device_type='TPU'), LogicalDevice(name='/job:worker/replica:0/task:0/device:TPU:5', device_type='TPU'), LogicalDevice(name='/job:worker/replica:0/task:0/device:TPU:4', device_type='TPU'), LogicalDevice(name='/job:worker/replica:0/task:0/device:TPU:3', device_type='TPU'), LogicalDevice(name='/job:worker/replica:0/task:0/device:TPU:0', device_type='TPU'), LogicalDevice(name='/job:worker/replica:0/task:0/device:TPU:1', device_type='TPU'), LogicalDevice(name='/job:worker/replica:0/task:0/device:TPU:2', device_type='TPU')]\n"
          ],
          "name": "stdout"
        }
      ]
    },
    {
      "cell_type": "code",
      "metadata": {
        "colab": {
          "base_uri": "https://localhost:8080/"
        },
        "id": "aJQj9LrLC56T",
        "outputId": "0edbd4ec-5231-493f-ce11-9f148f4dfd03"
      },
      "source": [
        "from tensorflow.keras.layers import Input, Dense, BatchNormalization, Dropout, Concatenate, Lambda, GaussianNoise, Activation\r\n",
        "from tensorflow.keras.models import Model, Sequential\r\n",
        "from tensorflow.keras.losses import BinaryCrossentropy\r\n",
        "from tensorflow.keras.optimizers import Adam\r\n",
        "from tensorflow.keras.callbacks import EarlyStopping\r\n",
        "from tensorflow.keras.layers.experimental.preprocessing import Normalization\r\n",
        "import tensorflow as tf\r\n",
        "import numpy as np\r\n",
        "import pandas as pd\r\n",
        "from tqdm import tqdm\r\n",
        "from random import choices\r\n",
        "import os\r\n",
        "\r\n",
        "SEED = 1111\r\n",
        "\r\n",
        "tf.random.set_seed(SEED)\r\n",
        "np.random.seed(SEED)\r\n",
        "\r\n",
        "\r\n",
        "save=True\r\n",
        "resume=False\r\n",
        "print(\"reading csv input .....\")\r\n",
        "if 'train' in locals():\r\n",
        "  print(\"Alreday have, skip reading\")\r\n",
        "else:\r\n",
        "  train = pd.read_csv('/content/gdrive/MyDrive/Kaggle/janestreet/train.csv')\r\n",
        "  \r\n",
        "########################################여기 참조하세요!!!!!!!!!!!!!!#####################\r\n",
        "\r\n",
        "try:\r\n",
        "  tpu = tf.distribute.cluster_resolver.TPUClusterResolver()  # TPU detection\r\n",
        "  print('Running on TPU ', tpu.cluster_spec().as_dict()['worker'])\r\n",
        "except ValueError:\r\n",
        "  raise BaseException('ERROR: Not connected to a TPU runtime; please see the previous cell in this notebook for instructions!')\r\n",
        "tf.config.experimental_connect_to_cluster(tpu)\r\n",
        "tf.tpu.experimental.initialize_tpu_system(tpu)\r\n",
        "tpu_strategy = tf.distribute.experimental.TPUStrategy(tpu)\r\n",
        "AUTO = tf.data.experimental.AUTOTUNE\r\n",
        "\r\n",
        "\r\n",
        "\r\n",
        "batch_size = 16 * tpu_strategy.num_replicas_in_sync #TPU batch size에 대해서는 잘 모르겠습니다. 기존 batch size였던 5000으로 사용중입니다(여기서 initialization 되나 아래에서 overwritten 됨.)\r\n",
        "########################################여기 참조하세요!!!!!!!!!!!!!!#####################\r\n",
        "\r\n",
        "\r\n",
        "\r\n",
        "\r\n",
        "train = train.query('date > 85').reset_index(drop = True) \r\n",
        "train = train[train['weight'] != 0]\r\n",
        "print(\"finish reading input\")\r\n",
        "\r\n",
        "\r\n",
        "train.fillna(train.mean(),inplace=True)\r\n",
        "\r\n",
        "# action값을 resp가 0이상 -> 가격이 올랐을때 1로 새로운 열을 만들어 채워 넣음\r\n",
        "\r\n",
        "train['action'] = ((train['resp'].values) > 0).astype(int) * ((train['feature_0'].values)==-1).astype(int)\r\n",
        "\r\n",
        "# train['action'] = (train[featrues[0]==1).astype(int)\r\n",
        "\r\n",
        "features = [c for c in train.columns if \"feature\" in c]\r\n",
        "\r\n",
        "f_mean = np.mean(train[features[1:]].values,axis=0)\r\n",
        "\r\n",
        "resp_cols = ['resp_1', 'resp_2', 'resp_3', 'resp', 'resp_4']\r\n",
        "\r\n",
        "X_train = train.loc[:, train.columns.str.contains('feature')]\r\n",
        "#y_train = (train.loc[:, 'action'])\r\n",
        "\r\n",
        "y_train = np.stack([(train[c] > 0).astype('int') for c in resp_cols]).T\r\n",
        "\r\n",
        "\r\n",
        "\r\n",
        "# with tf.device('/device:GPU:0'):\r\n",
        "\r\n",
        "\r\n",
        "def create_mlp(\r\n",
        "    num_columns, num_labels, hidden_units, dropout_rates, label_smoothing, learning_rate\r\n",
        "):\r\n",
        "\r\n",
        "    inp = tf.keras.layers.Input(shape=(num_columns,))\r\n",
        "    x = tf.keras.layers.BatchNormalization()(inp)\r\n",
        "    x = tf.keras.layers.Dropout(dropout_rates[0])(x)\r\n",
        "    for i in range(len(hidden_units)):\r\n",
        "        x = tf.keras.layers.Dense(hidden_units[i])(x)\r\n",
        "        x = tf.keras.layers.BatchNormalization()(x)\r\n",
        "        x = tf.keras.layers.Activation(tf.keras.activations.swish)(x)\r\n",
        "\r\n",
        "        x = tf.keras.layers.Dropout(dropout_rates[i + 1])(x)\r\n",
        "\r\n",
        "    x = tf.keras.layers.Dense(num_labels)(x)\r\n",
        "    out = tf.keras.layers.Activation(\"sigmoid\")(x)\r\n",
        "\r\n",
        "    model = tf.keras.models.Model(inputs=inp, outputs=out)\r\n",
        "    model.compile(\r\n",
        "        optimizer=tf.keras.optimizers.Adam(learning_rate=learning_rate),\r\n",
        "        loss=tf.keras.losses.BinaryCrossentropy(label_smoothing=label_smoothing),\r\n",
        "        metrics=tf.keras.metrics.AUC(name=\"AUC\"),\r\n",
        "    )\r\n",
        "\r\n",
        "    return model\r\n",
        "\r\n",
        "\r\n",
        "\r\n",
        "batch_size = 5000\r\n",
        "hidden_units = [145, 145, 145]\r\n",
        "dropout_rates = [0.20, 0.20, 0.20, 0.20]\r\n",
        "label_smoothing = 1e-2\r\n",
        "learning_rate = 1e-3\r\n",
        "\r\n",
        "checkpoint_path = \"/content/gdrive/MyDrive/Kaggle/janestreet/simplemlp_feature0_negative1/cp.ckpt\"\r\n",
        "checkpoint_dir = os.path.dirname(checkpoint_path)\r\n",
        "if save==True:\r\n",
        "\r\n",
        "  cp_callback = tf.keras.callbacks.ModelCheckpoint(filepath=checkpoint_path, save_weights_only=True,monitor='AUC',mode='max', save_best_only=True, verbose=1)\r\n",
        "\r\n",
        "\r\n",
        "\r\n",
        "\r\n",
        "\r\n",
        "clf = create_mlp(\r\n",
        "    len(features), 5, hidden_units, dropout_rates, label_smoothing, learning_rate\r\n",
        "    )\r\n",
        "\r\n",
        "\r\n",
        "\r\n",
        "########################################여기 참조하세요!!!!!!!!!!!!!!#####################\r\n",
        "with tpu_strategy.scope(): # creating the model in the TPUStrategy scope means we will train the model on the TPU\r\n",
        "  model = clf\r\n",
        "model.summary()\r\n",
        "\r\n",
        "\r\n",
        "\r\n",
        "if resume== True :\r\n",
        "  model.load_weights(checkpoint_path)\r\n",
        "else:\r\n",
        "  model.fit(X_train, y_train, epochs=200, batch_size=5000,callbacks=[cp_callback] )\r\n",
        "########################################여기 참조하세요!!!!!!!!!!!!!!#####################\r\n",
        "\r\n",
        "\r\n",
        "\r\n",
        "models = []\r\n",
        "\r\n",
        "models.append(clf)\r\n",
        "\r\n",
        "th = 0.5000\r\n",
        "\r\n",
        "\r\n",
        "f = np.median\r\n",
        "models = models[-3:]\r\n",
        "import janestreet\r\n",
        "env = janestreet.make_env()\r\n",
        "for (test_df, pred_df) in tqdm(env.iter_test()):\r\n",
        "    if test_df['weight'].item() > 0:\r\n",
        "        x_tt = test_df.loc[:, features].values\r\n",
        "        if np.isnan(x_tt[:, 1:].sum()):\r\n",
        "            x_tt[:, 1:] = np.nan_to_num(x_tt[:, 1:]) + np.isnan(x_tt[:, 1:]) * f_mean\r\n",
        "        pred = np.mean([model(x_tt, training = False).numpy() for model in models],axis=0)\r\n",
        "        pred = f(pred)\r\n",
        "        pred_df.action = np.where(pred >= th, 1, 0).astype(int)\r\n",
        "    else:\r\n",
        "        pred_df.action = 0\r\n",
        "    env.predict(pred_df)"
      ],
      "execution_count": null,
      "outputs": [
        {
          "output_type": "stream",
          "text": [
            "reading csv input .....\n",
            "Alreday have, skip reading\n",
            "Running on TPU  ['10.119.239.250:8470']\n",
            "WARNING:tensorflow:TPU system grpc://10.119.239.250:8470 has already been initialized. Reinitializing the TPU can cause previously created variables on TPU to be lost.\n"
          ],
          "name": "stdout"
        },
        {
          "output_type": "stream",
          "text": [
            "WARNING:tensorflow:TPU system grpc://10.119.239.250:8470 has already been initialized. Reinitializing the TPU can cause previously created variables on TPU to be lost.\n"
          ],
          "name": "stderr"
        },
        {
          "output_type": "stream",
          "text": [
            "INFO:tensorflow:Initializing the TPU system: grpc://10.119.239.250:8470\n"
          ],
          "name": "stdout"
        },
        {
          "output_type": "stream",
          "text": [
            "INFO:tensorflow:Initializing the TPU system: grpc://10.119.239.250:8470\n"
          ],
          "name": "stderr"
        },
        {
          "output_type": "stream",
          "text": [
            "INFO:tensorflow:Clearing out eager caches\n"
          ],
          "name": "stdout"
        },
        {
          "output_type": "stream",
          "text": [
            "INFO:tensorflow:Clearing out eager caches\n"
          ],
          "name": "stderr"
        },
        {
          "output_type": "stream",
          "text": [
            "INFO:tensorflow:Finished initializing TPU system.\n"
          ],
          "name": "stdout"
        },
        {
          "output_type": "stream",
          "text": [
            "INFO:tensorflow:Finished initializing TPU system.\n",
            "WARNING:absl:`tf.distribute.experimental.TPUStrategy` is deprecated, please use  the non experimental symbol `tf.distribute.TPUStrategy` instead.\n"
          ],
          "name": "stderr"
        },
        {
          "output_type": "stream",
          "text": [
            "INFO:tensorflow:Found TPU system:\n"
          ],
          "name": "stdout"
        },
        {
          "output_type": "stream",
          "text": [
            "INFO:tensorflow:Found TPU system:\n"
          ],
          "name": "stderr"
        },
        {
          "output_type": "stream",
          "text": [
            "INFO:tensorflow:*** Num TPU Cores: 8\n"
          ],
          "name": "stdout"
        },
        {
          "output_type": "stream",
          "text": [
            "INFO:tensorflow:*** Num TPU Cores: 8\n"
          ],
          "name": "stderr"
        },
        {
          "output_type": "stream",
          "text": [
            "INFO:tensorflow:*** Num TPU Workers: 1\n"
          ],
          "name": "stdout"
        },
        {
          "output_type": "stream",
          "text": [
            "INFO:tensorflow:*** Num TPU Workers: 1\n"
          ],
          "name": "stderr"
        },
        {
          "output_type": "stream",
          "text": [
            "INFO:tensorflow:*** Num TPU Cores Per Worker: 8\n"
          ],
          "name": "stdout"
        },
        {
          "output_type": "stream",
          "text": [
            "INFO:tensorflow:*** Num TPU Cores Per Worker: 8\n"
          ],
          "name": "stderr"
        },
        {
          "output_type": "stream",
          "text": [
            "INFO:tensorflow:*** Available Device: _DeviceAttributes(/job:localhost/replica:0/task:0/device:CPU:0, CPU, 0, 0)\n"
          ],
          "name": "stdout"
        },
        {
          "output_type": "stream",
          "text": [
            "INFO:tensorflow:*** Available Device: _DeviceAttributes(/job:localhost/replica:0/task:0/device:CPU:0, CPU, 0, 0)\n"
          ],
          "name": "stderr"
        },
        {
          "output_type": "stream",
          "text": [
            "INFO:tensorflow:*** Available Device: _DeviceAttributes(/job:worker/replica:0/task:0/device:CPU:0, CPU, 0, 0)\n"
          ],
          "name": "stdout"
        },
        {
          "output_type": "stream",
          "text": [
            "INFO:tensorflow:*** Available Device: _DeviceAttributes(/job:worker/replica:0/task:0/device:CPU:0, CPU, 0, 0)\n"
          ],
          "name": "stderr"
        },
        {
          "output_type": "stream",
          "text": [
            "INFO:tensorflow:*** Available Device: _DeviceAttributes(/job:worker/replica:0/task:0/device:TPU:0, TPU, 0, 0)\n"
          ],
          "name": "stdout"
        },
        {
          "output_type": "stream",
          "text": [
            "INFO:tensorflow:*** Available Device: _DeviceAttributes(/job:worker/replica:0/task:0/device:TPU:0, TPU, 0, 0)\n"
          ],
          "name": "stderr"
        },
        {
          "output_type": "stream",
          "text": [
            "INFO:tensorflow:*** Available Device: _DeviceAttributes(/job:worker/replica:0/task:0/device:TPU:1, TPU, 0, 0)\n"
          ],
          "name": "stdout"
        },
        {
          "output_type": "stream",
          "text": [
            "INFO:tensorflow:*** Available Device: _DeviceAttributes(/job:worker/replica:0/task:0/device:TPU:1, TPU, 0, 0)\n"
          ],
          "name": "stderr"
        },
        {
          "output_type": "stream",
          "text": [
            "INFO:tensorflow:*** Available Device: _DeviceAttributes(/job:worker/replica:0/task:0/device:TPU:2, TPU, 0, 0)\n"
          ],
          "name": "stdout"
        },
        {
          "output_type": "stream",
          "text": [
            "INFO:tensorflow:*** Available Device: _DeviceAttributes(/job:worker/replica:0/task:0/device:TPU:2, TPU, 0, 0)\n"
          ],
          "name": "stderr"
        },
        {
          "output_type": "stream",
          "text": [
            "INFO:tensorflow:*** Available Device: _DeviceAttributes(/job:worker/replica:0/task:0/device:TPU:3, TPU, 0, 0)\n"
          ],
          "name": "stdout"
        },
        {
          "output_type": "stream",
          "text": [
            "INFO:tensorflow:*** Available Device: _DeviceAttributes(/job:worker/replica:0/task:0/device:TPU:3, TPU, 0, 0)\n"
          ],
          "name": "stderr"
        },
        {
          "output_type": "stream",
          "text": [
            "INFO:tensorflow:*** Available Device: _DeviceAttributes(/job:worker/replica:0/task:0/device:TPU:4, TPU, 0, 0)\n"
          ],
          "name": "stdout"
        },
        {
          "output_type": "stream",
          "text": [
            "INFO:tensorflow:*** Available Device: _DeviceAttributes(/job:worker/replica:0/task:0/device:TPU:4, TPU, 0, 0)\n"
          ],
          "name": "stderr"
        },
        {
          "output_type": "stream",
          "text": [
            "INFO:tensorflow:*** Available Device: _DeviceAttributes(/job:worker/replica:0/task:0/device:TPU:5, TPU, 0, 0)\n"
          ],
          "name": "stdout"
        },
        {
          "output_type": "stream",
          "text": [
            "INFO:tensorflow:*** Available Device: _DeviceAttributes(/job:worker/replica:0/task:0/device:TPU:5, TPU, 0, 0)\n"
          ],
          "name": "stderr"
        },
        {
          "output_type": "stream",
          "text": [
            "INFO:tensorflow:*** Available Device: _DeviceAttributes(/job:worker/replica:0/task:0/device:TPU:6, TPU, 0, 0)\n"
          ],
          "name": "stdout"
        },
        {
          "output_type": "stream",
          "text": [
            "INFO:tensorflow:*** Available Device: _DeviceAttributes(/job:worker/replica:0/task:0/device:TPU:6, TPU, 0, 0)\n"
          ],
          "name": "stderr"
        },
        {
          "output_type": "stream",
          "text": [
            "INFO:tensorflow:*** Available Device: _DeviceAttributes(/job:worker/replica:0/task:0/device:TPU:7, TPU, 0, 0)\n"
          ],
          "name": "stdout"
        },
        {
          "output_type": "stream",
          "text": [
            "INFO:tensorflow:*** Available Device: _DeviceAttributes(/job:worker/replica:0/task:0/device:TPU:7, TPU, 0, 0)\n"
          ],
          "name": "stderr"
        },
        {
          "output_type": "stream",
          "text": [
            "INFO:tensorflow:*** Available Device: _DeviceAttributes(/job:worker/replica:0/task:0/device:TPU_SYSTEM:0, TPU_SYSTEM, 0, 0)\n"
          ],
          "name": "stdout"
        },
        {
          "output_type": "stream",
          "text": [
            "INFO:tensorflow:*** Available Device: _DeviceAttributes(/job:worker/replica:0/task:0/device:TPU_SYSTEM:0, TPU_SYSTEM, 0, 0)\n"
          ],
          "name": "stderr"
        },
        {
          "output_type": "stream",
          "text": [
            "INFO:tensorflow:*** Available Device: _DeviceAttributes(/job:worker/replica:0/task:0/device:XLA_CPU:0, XLA_CPU, 0, 0)\n"
          ],
          "name": "stdout"
        },
        {
          "output_type": "stream",
          "text": [
            "INFO:tensorflow:*** Available Device: _DeviceAttributes(/job:worker/replica:0/task:0/device:XLA_CPU:0, XLA_CPU, 0, 0)\n"
          ],
          "name": "stderr"
        },
        {
          "output_type": "stream",
          "text": [
            "finish reading input\n",
            "Model: \"model_1\"\n",
            "_________________________________________________________________\n",
            "Layer (type)                 Output Shape              Param #   \n",
            "=================================================================\n",
            "input_2 (InputLayer)         [(None, 130)]             0         \n",
            "_________________________________________________________________\n",
            "batch_normalization_4 (Batch (None, 130)               520       \n",
            "_________________________________________________________________\n",
            "dropout_4 (Dropout)          (None, 130)               0         \n",
            "_________________________________________________________________\n",
            "dense_4 (Dense)              (None, 145)               18995     \n",
            "_________________________________________________________________\n",
            "batch_normalization_5 (Batch (None, 145)               580       \n",
            "_________________________________________________________________\n",
            "activation_4 (Activation)    (None, 145)               0         \n",
            "_________________________________________________________________\n",
            "dropout_5 (Dropout)          (None, 145)               0         \n",
            "_________________________________________________________________\n",
            "dense_5 (Dense)              (None, 145)               21170     \n",
            "_________________________________________________________________\n",
            "batch_normalization_6 (Batch (None, 145)               580       \n",
            "_________________________________________________________________\n",
            "activation_5 (Activation)    (None, 145)               0         \n",
            "_________________________________________________________________\n",
            "dropout_6 (Dropout)          (None, 145)               0         \n",
            "_________________________________________________________________\n",
            "dense_6 (Dense)              (None, 145)               21170     \n",
            "_________________________________________________________________\n",
            "batch_normalization_7 (Batch (None, 145)               580       \n",
            "_________________________________________________________________\n",
            "activation_6 (Activation)    (None, 145)               0         \n",
            "_________________________________________________________________\n",
            "dropout_7 (Dropout)          (None, 145)               0         \n",
            "_________________________________________________________________\n",
            "dense_7 (Dense)              (None, 5)                 730       \n",
            "_________________________________________________________________\n",
            "activation_7 (Activation)    (None, 5)                 0         \n",
            "=================================================================\n",
            "Total params: 64,325\n",
            "Trainable params: 63,195\n",
            "Non-trainable params: 1,130\n",
            "_________________________________________________________________\n",
            "Epoch 1/200\n",
            "315/315 [==============================] - 15s 42ms/step - loss: 0.7070 - AUC: 0.5175\n",
            "\n",
            "Epoch 00001: AUC improved from -inf to 0.52441, saving model to /content/gdrive/MyDrive/Kaggle/janestreet/simplemlp_feature0_negative1/cp.ckpt\n",
            "Epoch 2/200\n",
            "315/315 [==============================] - 13s 41ms/step - loss: 0.6910 - AUC: 0.5356\n",
            "\n",
            "Epoch 00002: AUC improved from 0.52441 to 0.53727, saving model to /content/gdrive/MyDrive/Kaggle/janestreet/simplemlp_feature0_negative1/cp.ckpt\n",
            "Epoch 3/200\n",
            "315/315 [==============================] - 13s 41ms/step - loss: 0.6902 - AUC: 0.5395\n",
            "\n",
            "Epoch 00003: AUC improved from 0.53727 to 0.54096, saving model to /content/gdrive/MyDrive/Kaggle/janestreet/simplemlp_feature0_negative1/cp.ckpt\n",
            "Epoch 4/200\n",
            "315/315 [==============================] - 13s 40ms/step - loss: 0.6896 - AUC: 0.5431\n",
            "\n",
            "Epoch 00004: AUC improved from 0.54096 to 0.54363, saving model to /content/gdrive/MyDrive/Kaggle/janestreet/simplemlp_feature0_negative1/cp.ckpt\n",
            "Epoch 5/200\n",
            "315/315 [==============================] - 13s 41ms/step - loss: 0.6894 - AUC: 0.5446\n",
            "\n",
            "Epoch 00005: AUC improved from 0.54363 to 0.54520, saving model to /content/gdrive/MyDrive/Kaggle/janestreet/simplemlp_feature0_negative1/cp.ckpt\n",
            "Epoch 6/200\n",
            "315/315 [==============================] - 12s 38ms/step - loss: 0.6891 - AUC: 0.5465\n",
            "\n",
            "Epoch 00006: AUC improved from 0.54520 to 0.54645, saving model to /content/gdrive/MyDrive/Kaggle/janestreet/simplemlp_feature0_negative1/cp.ckpt\n",
            "Epoch 7/200\n",
            "315/315 [==============================] - 13s 40ms/step - loss: 0.6889 - AUC: 0.5478\n",
            "\n",
            "Epoch 00007: AUC improved from 0.54645 to 0.54737, saving model to /content/gdrive/MyDrive/Kaggle/janestreet/simplemlp_feature0_negative1/cp.ckpt\n",
            "Epoch 8/200\n",
            "315/315 [==============================] - 12s 40ms/step - loss: 0.6888 - AUC: 0.5478\n",
            "\n",
            "Epoch 00008: AUC improved from 0.54737 to 0.54815, saving model to /content/gdrive/MyDrive/Kaggle/janestreet/simplemlp_feature0_negative1/cp.ckpt\n",
            "Epoch 9/200\n",
            " 49/315 [===>..........................] - ETA: 10s - loss: 0.6886 - AUC: 0.5492"
          ],
          "name": "stdout"
        }
      ]
    },
    {
      "cell_type": "code",
      "metadata": {
        "id": "fbAaa6uLC6Jk"
      },
      "source": [
        ""
      ],
      "execution_count": null,
      "outputs": []
    }
  ]
}