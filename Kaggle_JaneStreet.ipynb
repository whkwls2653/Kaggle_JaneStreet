{
  "nbformat": 4,
  "nbformat_minor": 0,
  "metadata": {
    "colab": {
      "name": "Kaggle_JaneStreet.ipynb",
      "provenance": [],
      "collapsed_sections": []
    },
    "kernelspec": {
      "name": "python3",
      "display_name": "Python 3"
    }
  },
  "cells": [
    {
      "cell_type": "markdown",
      "metadata": {
        "id": "ImpWZTMBWOFp"
      },
      "source": [
        "#  환경설정 kaggle API & Google cloud mount"
      ]
    },
    {
      "cell_type": "code",
      "metadata": {
        "colab": {
          "base_uri": "https://localhost:8080/"
        },
        "id": "hfDc6vbLlEpy",
        "outputId": "c3bdbd6e-ba16-492a-f26a-39482bcae204"
      },
      "source": [
        "!pip install -q kaggle"
      ],
      "execution_count": 26,
      "outputs": [
        {
          "output_type": "stream",
          "text": [
            "\n",
            "Usage:   \n",
            "  pip3 install [options] <requirement specifier> [package-index-options] ...\n",
            "  pip3 install [options] -r <requirements file> [package-index-options] ...\n",
            "  pip3 install [options] [-e] <vcs project url> ...\n",
            "  pip3 install [options] [-e] <local project path> ...\n",
            "  pip3 install [options] <archive url/path> ...\n",
            "\n",
            "no such option: -u\n"
          ],
          "name": "stdout"
        }
      ]
    },
    {
      "cell_type": "code",
      "metadata": {
        "colab": {
          "base_uri": "https://localhost:8080/"
        },
        "id": "wgRN9EFXNwPY",
        "outputId": "6f41f056-0ab3-4f85-bb2d-64e905417909"
      },
      "source": [
        ""
      ],
      "execution_count": 27,
      "outputs": [
        {
          "output_type": "stream",
          "text": [
            "Mounted at /content/gdrive\n"
          ],
          "name": "stdout"
        }
      ]
    },
    {
      "cell_type": "code",
      "metadata": {
        "id": "sm0ztXENML3h"
      },
      "source": [
        "from google.colab import files"
      ],
      "execution_count": 10,
      "outputs": []
    },
    {
      "cell_type": "code",
      "metadata": {
        "colab": {
          "resources": {
            "http://localhost:8080/nbextensions/google.colab/files.js": {
              "data": "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",
              "ok": true,
              "headers": [
                [
                  "content-type",
                  "application/javascript"
                ]
              ],
              "status": 200,
              "status_text": "OK"
            }
          },
          "base_uri": "https://localhost:8080/",
          "height": 93
        },
        "id": "DKMIkzv4MSQh",
        "outputId": "fd13e2e5-be9a-4ba2-c82a-da1ada35bed2"
      },
      "source": [
        "files.upload()"
      ],
      "execution_count": 11,
      "outputs": [
        {
          "output_type": "display_data",
          "data": {
            "text/html": [
              "\n",
              "     <input type=\"file\" id=\"files-91a658fc-05af-472d-afa4-33a32b2e7dec\" name=\"files[]\" multiple disabled\n",
              "        style=\"border:none\" />\n",
              "     <output id=\"result-91a658fc-05af-472d-afa4-33a32b2e7dec\">\n",
              "      Upload widget is only available when the cell has been executed in the\n",
              "      current browser session. Please rerun this cell to enable.\n",
              "      </output>\n",
              "      <script src=\"/nbextensions/google.colab/files.js\"></script> "
            ],
            "text/plain": [
              "<IPython.core.display.HTML object>"
            ]
          },
          "metadata": {
            "tags": []
          }
        },
        {
          "output_type": "stream",
          "text": [
            "Saving kaggle.json to kaggle.json\n"
          ],
          "name": "stdout"
        },
        {
          "output_type": "execute_result",
          "data": {
            "text/plain": [
              "{'kaggle.json': b'{\"username\":\"jwajinlee\",\"key\":\"35fef57c10cc86ccfb612cac89b53526\"}'}"
            ]
          },
          "metadata": {
            "tags": []
          },
          "execution_count": 11
        }
      ]
    },
    {
      "cell_type": "code",
      "metadata": {
        "colab": {
          "base_uri": "https://localhost:8080/"
        },
        "id": "Idqp2DRSj1f_",
        "outputId": "bed86224-ab51-4a3c-d592-a09beb7d543f"
      },
      "source": [
        "\r\n",
        "!mkdir -p ~/.kaggle\r\n",
        "!cp kaggle.json ~/.kaggle/\r\n",
        "# Permission Warning 이 일어나지 않도록 \r\n",
        "!chmod 600 ~/.kaggle/kaggle.json\r\n",
        "# 본인이 참가한 모든 대회 보기 \r\n",
        "!kaggle competitions list"
      ],
      "execution_count": 14,
      "outputs": [
        {
          "output_type": "stream",
          "text": [
            "Warning: Looks like you're using an outdated API Version, please consider updating (server 1.5.10 / client 1.5.4)\n",
            "ref                                            deadline             category            reward  teamCount  userHasEntered  \n",
            "---------------------------------------------  -------------------  ---------------  ---------  ---------  --------------  \n",
            "contradictory-my-dear-watson                   2030-07-01 23:59:00  Getting Started     Prizes         99           False  \n",
            "gan-getting-started                            2030-07-01 23:59:00  Getting Started     Prizes        206           False  \n",
            "tpu-getting-started                            2030-06-03 23:59:00  Getting Started  Knowledge        389           False  \n",
            "digit-recognizer                               2030-01-01 00:00:00  Getting Started  Knowledge       2645           False  \n",
            "titanic                                        2030-01-01 00:00:00  Getting Started  Knowledge      20559           False  \n",
            "house-prices-advanced-regression-techniques    2030-01-01 00:00:00  Getting Started  Knowledge       5412           False  \n",
            "connectx                                       2030-01-01 00:00:00  Getting Started  Knowledge        486           False  \n",
            "nlp-getting-started                            2030-01-01 00:00:00  Getting Started  Knowledge       1424           False  \n",
            "competitive-data-science-predict-future-sales  2022-12-31 23:59:00  Playground           Kudos      10111           False  \n",
            "vinbigdata-chest-xray-abnormalities-detection  2021-03-30 23:59:00  Featured           $50,000        246           False  \n",
            "hubmap-kidney-segmentation                     2021-03-25 23:59:00  Research           $60,000        850           False  \n",
            "ranzcr-clip-catheter-line-classification       2021-03-15 23:59:00  Featured           $50,000        498           False  \n",
            "jane-street-market-prediction                  2021-02-22 23:59:00  Featured          $100,000       2341            True  \n",
            "cassava-leaf-disease-classification            2021-02-18 23:59:00  Research           $18,000       2606           False  \n",
            "rfcx-species-audio-detection                   2021-02-17 23:59:00  Research           $15,000        799           False  \n",
            "acea-water-prediction                          2021-02-17 23:59:00  Analytics          $25,000          0           False  \n",
            "rock-paper-scissors                            2021-02-01 23:59:00  Playground          Prizes       1456           False  \n",
            "santa-2020                                     2021-02-01 23:59:00  Featured            Prizes        709           False  \n",
            "tabular-playground-series-jan-2021             2021-01-31 23:59:00  Playground            Swag        829           False  \n",
            "nfl-big-data-bowl-2021                         2021-01-07 23:59:00  Analytics         $100,000          0           False  \n"
          ],
          "name": "stdout"
        }
      ]
    },
    {
      "cell_type": "code",
      "metadata": {
        "colab": {
          "base_uri": "https://localhost:8080/"
        },
        "id": "l7nslHJglDDt",
        "outputId": "c263b1c3-1ab7-40bc-90e2-f8fb3f198223"
      },
      "source": [
        "\r\n",
        "! kaggle competitions download -c jane-street-market-prediction -d /content/gdrive/My Drive"
      ],
      "execution_count": 42,
      "outputs": [
        {
          "output_type": "stream",
          "text": [
            "usage: kaggle [-h] [-v] {competitions,c,datasets,d,kernels,k,config} ...\n",
            "kaggle: error: unrecognized arguments: -d Drive\n"
          ],
          "name": "stdout"
        }
      ]
    },
    {
      "cell_type": "code",
      "metadata": {
        "colab": {
          "base_uri": "https://localhost:8080/"
        },
        "id": "yZvoqD2JRfTJ",
        "outputId": "8ed99fd1-ea3d-428d-ccbd-409acb234521"
      },
      "source": [
        "!cp -r /content/sample_data/ /content/gdrive/MyDrive/Kaggle/JaneStreet/\r\n",
        "!ls"
      ],
      "execution_count": 48,
      "outputs": [
        {
          "output_type": "stream",
          "text": [
            "competition.cpython-37m-x86_64-linux-gnu.so  gdrive\t  train.csv\n",
            "example_sample_submission.csv\t\t     __init__.py  train.csv.zip\n",
            "example_test.csv.zip\t\t\t     kaggle.json\n",
            "features.csv\t\t\t\t     sample_data\n"
          ],
          "name": "stdout"
        }
      ]
    },
    {
      "cell_type": "code",
      "metadata": {
        "id": "NjBdFl0VUt4X"
      },
      "source": [
        "from google.colab import drive\r\n",
        "drive.mount('/content/gdrive')"
      ],
      "execution_count": null,
      "outputs": []
    },
    {
      "cell_type": "code",
      "metadata": {
        "id": "rUDzZo5LWGyh"
      },
      "source": [
        ""
      ],
      "execution_count": null,
      "outputs": []
    },
    {
      "cell_type": "markdown",
      "metadata": {
        "id": "pTcqKNbXWJd7"
      },
      "source": [
        "# python 환경 설정"
      ]
    },
    {
      "cell_type": "code",
      "metadata": {
        "colab": {
          "base_uri": "https://localhost:8080/"
        },
        "id": "8sZFwM57WHNZ",
        "outputId": "a1b25565-af50-4192-f030-d6d2b610e64c"
      },
      "source": [
        "import numpy as np\r\n",
        "import pandas as pd\r\n",
        "import os\r\n",
        "for dirname, _, filenames in os.walk('/content/gdrive/MyDrive/Kaggle/JaneStreet'):\r\n",
        "  for filename in filenames:\r\n",
        "    print(os.path.join(dirname, filename))"
      ],
      "execution_count": 50,
      "outputs": [
        {
          "output_type": "stream",
          "text": [
            "/content/gdrive/MyDrive/Kaggle/JaneStreet/example_test.csv.zip\n",
            "/content/gdrive/MyDrive/Kaggle/JaneStreet/train.csv.zip\n",
            "/content/gdrive/MyDrive/Kaggle/JaneStreet/example_sample_submission.csv\n",
            "/content/gdrive/MyDrive/Kaggle/JaneStreet/features.csv\n",
            "/content/gdrive/MyDrive/Kaggle/JaneStreet/train.csv\n",
            "/content/gdrive/MyDrive/Kaggle/JaneStreet/kaggle.json\n",
            "/content/gdrive/MyDrive/Kaggle/JaneStreet/__init__.py\n",
            "/content/gdrive/MyDrive/Kaggle/JaneStreet/sample_data/README.md\n",
            "/content/gdrive/MyDrive/Kaggle/JaneStreet/sample_data/anscombe.json\n",
            "/content/gdrive/MyDrive/Kaggle/JaneStreet/sample_data/california_housing_test.csv\n",
            "/content/gdrive/MyDrive/Kaggle/JaneStreet/sample_data/california_housing_train.csv\n",
            "/content/gdrive/MyDrive/Kaggle/JaneStreet/sample_data/mnist_test.csv\n",
            "/content/gdrive/MyDrive/Kaggle/JaneStreet/sample_data/mnist_train_small.csv\n"
          ],
          "name": "stdout"
        }
      ]
    },
    {
      "cell_type": "code",
      "metadata": {
        "colab": {
          "base_uri": "https://localhost:8080/"
        },
        "id": "Oxdt0-VFYBNX",
        "outputId": "4ee12598-fce4-422b-a676-dbc76113c4f9"
      },
      "source": [
        "!pip install git+https://github.com/keras-team/keras-tuner.git\r\n",
        "\r\n"
      ],
      "execution_count": 54,
      "outputs": [
        {
          "output_type": "stream",
          "text": [
            "Collecting git+https://github.com/keras-team/keras-tuner.git\n",
            "  Cloning https://github.com/keras-team/keras-tuner.git to /tmp/pip-req-build-964j08vf\n",
            "  Running command git clone -q https://github.com/keras-team/keras-tuner.git /tmp/pip-req-build-964j08vf\n",
            "Requirement already satisfied: packaging in /usr/local/lib/python3.6/dist-packages (from keras-tuner==1.0.3) (20.8)\n",
            "Requirement already satisfied: future in /usr/local/lib/python3.6/dist-packages (from keras-tuner==1.0.3) (0.16.0)\n",
            "Requirement already satisfied: numpy in /usr/local/lib/python3.6/dist-packages (from keras-tuner==1.0.3) (1.19.5)\n",
            "Requirement already satisfied: tabulate in /usr/local/lib/python3.6/dist-packages (from keras-tuner==1.0.3) (0.8.7)\n",
            "Collecting terminaltables\n",
            "  Downloading https://files.pythonhosted.org/packages/9b/c4/4a21174f32f8a7e1104798c445dacdc1d4df86f2f26722767034e4de4bff/terminaltables-3.1.0.tar.gz\n",
            "Collecting colorama\n",
            "  Downloading https://files.pythonhosted.org/packages/44/98/5b86278fbbf250d239ae0ecb724f8572af1c91f4a11edf4d36a206189440/colorama-0.4.4-py2.py3-none-any.whl\n",
            "Requirement already satisfied: tqdm in /usr/local/lib/python3.6/dist-packages (from keras-tuner==1.0.3) (4.41.1)\n",
            "Requirement already satisfied: requests in /usr/local/lib/python3.6/dist-packages (from keras-tuner==1.0.3) (2.23.0)\n",
            "Requirement already satisfied: scipy in /usr/local/lib/python3.6/dist-packages (from keras-tuner==1.0.3) (1.4.1)\n",
            "Requirement already satisfied: scikit-learn in /usr/local/lib/python3.6/dist-packages (from keras-tuner==1.0.3) (0.22.2.post1)\n",
            "Requirement already satisfied: tensorboard in /usr/local/lib/python3.6/dist-packages (from keras-tuner==1.0.3) (2.4.0)\n",
            "Requirement already satisfied: ipython in /usr/local/lib/python3.6/dist-packages (from keras-tuner==1.0.3) (5.5.0)\n",
            "Requirement already satisfied: pyparsing>=2.0.2 in /usr/local/lib/python3.6/dist-packages (from packaging->keras-tuner==1.0.3) (2.4.7)\n",
            "Requirement already satisfied: urllib3!=1.25.0,!=1.25.1,<1.26,>=1.21.1 in /usr/local/lib/python3.6/dist-packages (from requests->keras-tuner==1.0.3) (1.24.3)\n",
            "Requirement already satisfied: chardet<4,>=3.0.2 in /usr/local/lib/python3.6/dist-packages (from requests->keras-tuner==1.0.3) (3.0.4)\n",
            "Requirement already satisfied: certifi>=2017.4.17 in /usr/local/lib/python3.6/dist-packages (from requests->keras-tuner==1.0.3) (2020.12.5)\n",
            "Requirement already satisfied: idna<3,>=2.5 in /usr/local/lib/python3.6/dist-packages (from requests->keras-tuner==1.0.3) (2.10)\n",
            "Requirement already satisfied: joblib>=0.11 in /usr/local/lib/python3.6/dist-packages (from scikit-learn->keras-tuner==1.0.3) (1.0.0)\n",
            "Requirement already satisfied: grpcio>=1.24.3 in /usr/local/lib/python3.6/dist-packages (from tensorboard->keras-tuner==1.0.3) (1.32.0)\n",
            "Requirement already satisfied: setuptools>=41.0.0 in /usr/local/lib/python3.6/dist-packages (from tensorboard->keras-tuner==1.0.3) (51.1.1)\n",
            "Requirement already satisfied: wheel>=0.26; python_version >= \"3\" in /usr/local/lib/python3.6/dist-packages (from tensorboard->keras-tuner==1.0.3) (0.36.2)\n",
            "Requirement already satisfied: google-auth-oauthlib<0.5,>=0.4.1 in /usr/local/lib/python3.6/dist-packages (from tensorboard->keras-tuner==1.0.3) (0.4.2)\n",
            "Requirement already satisfied: google-auth<2,>=1.6.3 in /usr/local/lib/python3.6/dist-packages (from tensorboard->keras-tuner==1.0.3) (1.17.2)\n",
            "Requirement already satisfied: werkzeug>=0.11.15 in /usr/local/lib/python3.6/dist-packages (from tensorboard->keras-tuner==1.0.3) (1.0.1)\n",
            "Requirement already satisfied: six>=1.10.0 in /usr/local/lib/python3.6/dist-packages (from tensorboard->keras-tuner==1.0.3) (1.15.0)\n",
            "Requirement already satisfied: protobuf>=3.6.0 in /usr/local/lib/python3.6/dist-packages (from tensorboard->keras-tuner==1.0.3) (3.12.4)\n",
            "Requirement already satisfied: tensorboard-plugin-wit>=1.6.0 in /usr/local/lib/python3.6/dist-packages (from tensorboard->keras-tuner==1.0.3) (1.7.0)\n",
            "Requirement already satisfied: absl-py>=0.4 in /usr/local/lib/python3.6/dist-packages (from tensorboard->keras-tuner==1.0.3) (0.10.0)\n",
            "Requirement already satisfied: markdown>=2.6.8 in /usr/local/lib/python3.6/dist-packages (from tensorboard->keras-tuner==1.0.3) (3.3.3)\n",
            "Requirement already satisfied: pygments in /usr/local/lib/python3.6/dist-packages (from ipython->keras-tuner==1.0.3) (2.6.1)\n",
            "Requirement already satisfied: decorator in /usr/local/lib/python3.6/dist-packages (from ipython->keras-tuner==1.0.3) (4.4.2)\n",
            "Requirement already satisfied: simplegeneric>0.8 in /usr/local/lib/python3.6/dist-packages (from ipython->keras-tuner==1.0.3) (0.8.1)\n",
            "Requirement already satisfied: prompt-toolkit<2.0.0,>=1.0.4 in /usr/local/lib/python3.6/dist-packages (from ipython->keras-tuner==1.0.3) (1.0.18)\n",
            "Requirement already satisfied: pexpect; sys_platform != \"win32\" in /usr/local/lib/python3.6/dist-packages (from ipython->keras-tuner==1.0.3) (4.8.0)\n",
            "Requirement already satisfied: pickleshare in /usr/local/lib/python3.6/dist-packages (from ipython->keras-tuner==1.0.3) (0.7.5)\n",
            "Requirement already satisfied: traitlets>=4.2 in /usr/local/lib/python3.6/dist-packages (from ipython->keras-tuner==1.0.3) (4.3.3)\n",
            "Requirement already satisfied: requests-oauthlib>=0.7.0 in /usr/local/lib/python3.6/dist-packages (from google-auth-oauthlib<0.5,>=0.4.1->tensorboard->keras-tuner==1.0.3) (1.3.0)\n",
            "Requirement already satisfied: cachetools<5.0,>=2.0.0 in /usr/local/lib/python3.6/dist-packages (from google-auth<2,>=1.6.3->tensorboard->keras-tuner==1.0.3) (4.2.0)\n",
            "Requirement already satisfied: rsa<5,>=3.1.4; python_version >= \"3\" in /usr/local/lib/python3.6/dist-packages (from google-auth<2,>=1.6.3->tensorboard->keras-tuner==1.0.3) (4.6)\n",
            "Requirement already satisfied: pyasn1-modules>=0.2.1 in /usr/local/lib/python3.6/dist-packages (from google-auth<2,>=1.6.3->tensorboard->keras-tuner==1.0.3) (0.2.8)\n",
            "Requirement already satisfied: importlib-metadata; python_version < \"3.8\" in /usr/local/lib/python3.6/dist-packages (from markdown>=2.6.8->tensorboard->keras-tuner==1.0.3) (3.3.0)\n",
            "Requirement already satisfied: wcwidth in /usr/local/lib/python3.6/dist-packages (from prompt-toolkit<2.0.0,>=1.0.4->ipython->keras-tuner==1.0.3) (0.2.5)\n",
            "Requirement already satisfied: ptyprocess>=0.5 in /usr/local/lib/python3.6/dist-packages (from pexpect; sys_platform != \"win32\"->ipython->keras-tuner==1.0.3) (0.7.0)\n",
            "Requirement already satisfied: ipython-genutils in /usr/local/lib/python3.6/dist-packages (from traitlets>=4.2->ipython->keras-tuner==1.0.3) (0.2.0)\n",
            "Requirement already satisfied: oauthlib>=3.0.0 in /usr/local/lib/python3.6/dist-packages (from requests-oauthlib>=0.7.0->google-auth-oauthlib<0.5,>=0.4.1->tensorboard->keras-tuner==1.0.3) (3.1.0)\n",
            "Requirement already satisfied: pyasn1>=0.1.3 in /usr/local/lib/python3.6/dist-packages (from rsa<5,>=3.1.4; python_version >= \"3\"->google-auth<2,>=1.6.3->tensorboard->keras-tuner==1.0.3) (0.4.8)\n",
            "Requirement already satisfied: typing-extensions>=3.6.4; python_version < \"3.8\" in /usr/local/lib/python3.6/dist-packages (from importlib-metadata; python_version < \"3.8\"->markdown>=2.6.8->tensorboard->keras-tuner==1.0.3) (3.7.4.3)\n",
            "Requirement already satisfied: zipp>=0.5 in /usr/local/lib/python3.6/dist-packages (from importlib-metadata; python_version < \"3.8\"->markdown>=2.6.8->tensorboard->keras-tuner==1.0.3) (3.4.0)\n",
            "Building wheels for collected packages: keras-tuner, terminaltables\n",
            "  Building wheel for keras-tuner (setup.py) ... \u001b[?25l\u001b[?25hdone\n",
            "  Created wheel for keras-tuner: filename=keras_tuner-1.0.3-cp36-none-any.whl size=92461 sha256=91700d596b9a90e23f9b23911cc2d2e439e7336102a710bf5bb8151ad100daa6\n",
            "  Stored in directory: /tmp/pip-ephem-wheel-cache-_opt2eu5/wheels/33/f9/be/250538026c0381bfee3fe34b533f483c15dbfde8fbb61c8bbd\n",
            "  Building wheel for terminaltables (setup.py) ... \u001b[?25l\u001b[?25hdone\n",
            "  Created wheel for terminaltables: filename=terminaltables-3.1.0-cp36-none-any.whl size=15358 sha256=7367ae23a3791a31f3c07c1473f4358585e42287f6dec8113857e747b1e5ea3d\n",
            "  Stored in directory: /root/.cache/pip/wheels/30/6b/50/6c75775b681fb36cdfac7f19799888ef9d8813aff9e379663e\n",
            "Successfully built keras-tuner terminaltables\n",
            "Installing collected packages: terminaltables, colorama, keras-tuner\n",
            "Successfully installed colorama-0.4.4 keras-tuner-1.0.3 terminaltables-3.1.0\n"
          ],
          "name": "stdout"
        }
      ]
    },
    {
      "cell_type": "code",
      "metadata": {
        "id": "M3-ZlyBanySU"
      },
      "source": [
        ""
      ],
      "execution_count": null,
      "outputs": []
    },
    {
      "cell_type": "code",
      "metadata": {
        "id": "Z06RDF1ZnzXA"
      },
      "source": [
        "B"
      ],
      "execution_count": null,
      "outputs": []
    },
    {
      "cell_type": "code",
      "metadata": {
        "id": "D1WWeTdRn2mI"
      },
      "source": [
        ""
      ],
      "execution_count": null,
      "outputs": []
    },
    {
      "cell_type": "code",
      "metadata": {
        "id": "4URIvPELXyZB"
      },
      "source": [
        "from tensorflow.keras.layers import Input, Dense, BatchNormalization, Dropout, Concatenate, Lambda, GaussianNoise, Activation\r\n",
        "from tensorflow.keras.models import Model, Sequential\r\n",
        "from tensorflow.keras.losses import BinaryCrossentropy\r\n",
        "from tensorflow.keras.optimizers import Adam\r\n",
        "from tensorflow.keras.callbacks import EarlyStopping\r\n",
        "from tensorflow.keras.layers.experimental.preprocessing import Normalization\r\n",
        "import tensorflow as tf\r\n",
        "import numpy as np\r\n",
        "import pandas as pd\r\n",
        "from sklearn.model_selection import GroupKFold\r\n",
        "\r\n",
        "from tqdm import tqdm\r\n",
        "from random import choices\r\n",
        "\r\n",
        "\r\n",
        "import kerastuner as kt"
      ],
      "execution_count": 55,
      "outputs": []
    },
    {
      "cell_type": "code",
      "metadata": {
        "id": "Azo-v2dqn4Oq"
      },
      "source": [
        "from sklearn.model_selection import KFold\r\n",
        "from sklearn.model_selection._split import _BaseKFold, indexable, _num_samples\r\n",
        "from sklearn.utils.validation import _deprecate_positional_args\r\n",
        "\r\n",
        "# modified code for group gaps; source\r\n",
        "# https://github.com/getgaurav2/scikit-learn/blob/d4a3af5cc9da3a76f0266932644b884c99724c57/sklearn/model_selection/_split.py#L2243\r\n",
        "class PurgedGroupTimeSeriesSplit(_BaseKFold):\r\n",
        "    \"\"\"Time Series cross-validator variant with non-overlapping groups.\r\n",
        "    Allows for a gap in groups to avoid potentially leaking info from\r\n",
        "    train into test if the model has windowed or lag features.\r\n",
        "    Provides train/test indices to split time series data samples\r\n",
        "    that are observed at fixed time intervals according to a\r\n",
        "    third-party provided group.\r\n",
        "    In each split, test indices must be higher than before, and thus shuffling\r\n",
        "    in cross validator is inappropriate.\r\n",
        "    This cross-validation object is a variation of :class:`KFold`.\r\n",
        "    In the kth split, it returns first k folds as train set and the\r\n",
        "    (k+1)th fold as test set.\r\n",
        "    The same group will not appear in two different folds (the number of\r\n",
        "    distinct groups has to be at least equal to the number of folds).\r\n",
        "    Note that unlike standard cross-validation methods, successive\r\n",
        "    training sets are supersets of those that come before them.\r\n",
        "    Read more in the :ref:`User Guide <cross_validation>`.\r\n",
        "    Parameters\r\n",
        "    ----------\r\n",
        "    n_splits : int, default=5\r\n",
        "        Number of splits. Must be at least 2.\r\n",
        "    max_train_group_size : int, default=Inf\r\n",
        "        Maximum group size for a single training set.\r\n",
        "    group_gap : int, default=None\r\n",
        "        Gap between train and test\r\n",
        "    max_test_group_size : int, default=Inf\r\n",
        "        We discard this number of groups from the end of each train split\r\n",
        "    \"\"\"\r\n",
        "\r\n",
        "    @_deprecate_positional_args\r\n",
        "    def __init__(self,\r\n",
        "                 n_splits=5,\r\n",
        "                 *,\r\n",
        "                 max_train_group_size=np.inf,\r\n",
        "                 max_test_group_size=np.inf,\r\n",
        "                 group_gap=None,\r\n",
        "                 verbose=False\r\n",
        "                 ):\r\n",
        "        super().__init__(n_splits, shuffle=False, random_state=None)\r\n",
        "        self.max_train_group_size = max_train_group_size\r\n",
        "        self.group_gap = group_gap\r\n",
        "        self.max_test_group_size = max_test_group_size\r\n",
        "        self.verbose = verbose\r\n",
        "\r\n",
        "    def split(self, X, y=None, groups=None):\r\n",
        "        \"\"\"Generate indices to split data into training and test set.\r\n",
        "        Parameters\r\n",
        "        ----------\r\n",
        "        X : array-like of shape (n_samples, n_features)\r\n",
        "            Training data, where n_samples is the number of samples\r\n",
        "            and n_features is the number of features.\r\n",
        "        y : array-like of shape (n_samples,)\r\n",
        "            Always ignored, exists for compatibility.\r\n",
        "        groups : array-like of shape (n_samples,)\r\n",
        "            Group labels for the samples used while splitting the dataset into\r\n",
        "            train/test set.\r\n",
        "        Yields\r\n",
        "        ------\r\n",
        "        train : ndarray\r\n",
        "            The training set indices for that split.\r\n",
        "        test : ndarray\r\n",
        "            The testing set indices for that split.\r\n",
        "        \"\"\"\r\n",
        "        if groups is None:\r\n",
        "            raise ValueError(\r\n",
        "                \"The 'groups' parameter should not be None\")\r\n",
        "        X, y, groups = indexable(X, y, groups)\r\n",
        "        n_samples = _num_samples(X)\r\n",
        "        n_splits = self.n_splits\r\n",
        "        group_gap = self.group_gap\r\n",
        "        max_test_group_size = self.max_test_group_size\r\n",
        "        max_train_group_size = self.max_train_group_size\r\n",
        "        n_folds = n_splits + 1\r\n",
        "        group_dict = {}\r\n",
        "        u, ind = np.unique(groups, return_index=True)\r\n",
        "        unique_groups = u[np.argsort(ind)]\r\n",
        "        n_samples = _num_samples(X)\r\n",
        "        n_groups = _num_samples(unique_groups)\r\n",
        "        for idx in np.arange(n_samples):\r\n",
        "            if (groups[idx] in group_dict):\r\n",
        "                group_dict[groups[idx]].append(idx)\r\n",
        "            else:\r\n",
        "                group_dict[groups[idx]] = [idx]\r\n",
        "        if n_folds > n_groups:\r\n",
        "            raise ValueError(\r\n",
        "                (\"Cannot have number of folds={0} greater than\"\r\n",
        "                 \" the number of groups={1}\").format(n_folds,\r\n",
        "                                                     n_groups))\r\n",
        "\r\n",
        "        group_test_size = min(n_groups // n_folds, max_test_group_size)\r\n",
        "        group_test_starts = range(n_groups - n_splits * group_test_size,\r\n",
        "                                  n_groups, group_test_size)\r\n",
        "        for group_test_start in group_test_starts:\r\n",
        "            train_array = []\r\n",
        "            test_array = []\r\n",
        "\r\n",
        "            group_st = max(0, group_test_start - group_gap - max_train_group_size)\r\n",
        "            for train_group_idx in unique_groups[group_st:(group_test_start - group_gap)]:\r\n",
        "                train_array_tmp = group_dict[train_group_idx]\r\n",
        "                \r\n",
        "                train_array = np.sort(np.unique(\r\n",
        "                                      np.concatenate((train_array,\r\n",
        "                                                      train_array_tmp)),\r\n",
        "                                      axis=None), axis=None)\r\n",
        "\r\n",
        "            train_end = train_array.size\r\n",
        " \r\n",
        "            for test_group_idx in unique_groups[group_test_start:\r\n",
        "                                                group_test_start +\r\n",
        "                                                group_test_size]:\r\n",
        "                test_array_tmp = group_dict[test_group_idx]\r\n",
        "                test_array = np.sort(np.unique(\r\n",
        "                                              np.concatenate((test_array,\r\n",
        "                                                              test_array_tmp)),\r\n",
        "                                     axis=None), axis=None)\r\n",
        "\r\n",
        "            test_array  = test_array[group_gap:]\r\n",
        "            \r\n",
        "            \r\n",
        "            if self.verbose > 0:\r\n",
        "                    pass\r\n",
        "                    \r\n",
        "            yield [int(i) for i in train_array], [int(i) for i in test_array]"
      ],
      "execution_count": 57,
      "outputs": []
    },
    {
      "cell_type": "code",
      "metadata": {
        "id": "LxguV8DQn4tR"
      },
      "source": [
        "class CVTuner(kt.engine.tuner.Tuner):\r\n",
        "    def run_trial(self, trial, X, y, splits, batch_size=32, epochs=1,callbacks=None):\r\n",
        "        val_losses = []\r\n",
        "        for train_indices, test_indices in splits:\r\n",
        "            X_train, X_test = [x[train_indices] for x in X], [x[test_indices] for x in X]\r\n",
        "            y_train, y_test = [a[train_indices] for a in y], [a[test_indices] for a in y]\r\n",
        "            if len(X_train) < 2:\r\n",
        "                X_train = X_train[0]\r\n",
        "                X_test = X_test[0]\r\n",
        "            if len(y_train) < 2:\r\n",
        "                y_train = y_train[0]\r\n",
        "                y_test = y_test[0]\r\n",
        "            \r\n",
        "            model = self.hypermodel.build(trial.hyperparameters)\r\n",
        "            hist = model.fit(X_train,y_train,\r\n",
        "                      validation_data=(X_test,y_test),\r\n",
        "                      epochs=epochs,\r\n",
        "                        batch_size=batch_size,\r\n",
        "                      callbacks=callbacks)\r\n",
        "            \r\n",
        "            val_losses.append([hist.history[k][-1] for k in hist.history])\r\n",
        "        val_losses = np.asarray(val_losses)\r\n",
        "        self.oracle.update_trial(trial.trial_id, {k:np.mean(val_losses[:,i]) for i,k in enumerate(hist.history.keys())})\r\n",
        "        self.save_model(trial.trial_id, model)"
      ],
      "execution_count": 58,
      "outputs": []
    },
    {
      "cell_type": "code",
      "metadata": {
        "id": "K88LHvrkn40h"
      },
      "source": [
        "TRAINING = False\r\n",
        "USE_FINETUNE = False     \r\n",
        "FOLDS = 5\r\n",
        "SEED = 42\r\n",
        "\r\n",
        "train = pd.read_csv('/content/gdrive/MyDrive/Kaggle/JaneStreet/train.csv')\r\n",
        "train = train.query('date > 85').reset_index(drop = True) \r\n",
        "train = train.astype({c: np.float32 for c in train.select_dtypes(include='float64').columns}) #limit memory use\r\n",
        "train.fillna(train.mean(),inplace=True)\r\n",
        "train = train.query('weight > 0').reset_index(drop = True)\r\n",
        "#train['action'] = (train['resp'] > 0).astype('int')\r\n",
        "train['action'] =  (  (train['resp_1'] > 0 ) & (train['resp_2'] > 0 ) & (train['resp_3'] > 0 ) & (train['resp_4'] > 0 ) &  (train['resp'] > 0 )   ).astype('int')\r\n",
        "features = [c for c in train.columns if 'feature' in c]\r\n",
        "\r\n",
        "resp_cols = ['resp_1', 'resp_2', 'resp_3', 'resp', 'resp_4']\r\n",
        "\r\n",
        "X = train[features].values\r\n",
        "y = np.stack([(train[c] > 0).astype('int') for c in resp_cols]).T #Multitarget\r\n",
        "\r\n",
        "f_mean = np.mean(train[features[1:]].values,axis=0)"
      ],
      "execution_count": 60,
      "outputs": []
    },
    {
      "cell_type": "code",
      "metadata": {
        "id": "YcKyXhfcqPie"
      },
      "source": [
        "def create_autoencoder(input_dim,output_dim,noise=0.05):\r\n",
        "    i = Input(input_dim)\r\n",
        "    encoded = BatchNormalization()(i)\r\n",
        "    encoded = GaussianNoise(noise)(encoded)\r\n",
        "    encoded = Dense(64,activation='relu')(encoded)\r\n",
        "    decoded = Dropout(0.2)(encoded)\r\n",
        "    decoded = Dense(input_dim,name='decoded')(decoded)\r\n",
        "    x = Dense(32,activation='relu')(decoded)\r\n",
        "    x = BatchNormalization()(x)\r\n",
        "    x = Dropout(0.2)(x)\r\n",
        "    x = Dense(output_dim,activation='sigmoid',name='label_output')(x)\r\n",
        "    \r\n",
        "    encoder = Model(inputs=i,outputs=encoded)\r\n",
        "    autoencoder = Model(inputs=i,outputs=[decoded,x])\r\n",
        "    \r\n",
        "    autoencoder.compile(optimizer=Adam(0.001),loss={'decoded':'mse','label_output':'binary_crossentropy'})\r\n",
        "    return autoencoder, encoder"
      ],
      "execution_count": 61,
      "outputs": []
    },
    {
      "cell_type": "code",
      "metadata": {
        "id": "Ml2xOFKxqPgH"
      },
      "source": [
        "def create_model(hp,input_dim,output_dim,encoder):\r\n",
        "    inputs = Input(input_dim)\r\n",
        "    \r\n",
        "    x = encoder(inputs)\r\n",
        "    x = Concatenate()([x,inputs]) #use both raw and encoded features\r\n",
        "    x = BatchNormalization()(x)\r\n",
        "    x = Dropout(hp.Float('init_dropout',0.0,0.5))(x)\r\n",
        "    \r\n",
        "    for i in range(hp.Int('num_layers',1,3)):\r\n",
        "        x = Dense(hp.Int('num_units_{i}',64,256))(x)\r\n",
        "        x = BatchNormalization()(x)\r\n",
        "        x = Lambda(tf.keras.activations.swish)(x)\r\n",
        "        x = Dropout(hp.Float(f'dropout_{i}',0.0,0.5))(x)\r\n",
        "    x = Dense(output_dim,activation='sigmoid')(x)\r\n",
        "    model = Model(inputs=inputs,outputs=x)\r\n",
        "    model.compile(optimizer=Adam(hp.Float('lr',0.00001,0.1,default=0.001)),loss=BinaryCrossentropy(label_smoothing=hp.Float('label_smoothing',0.0,0.1)),metrics=[tf.keras.metrics.AUC(name = 'auc')])\r\n",
        "    return model"
      ],
      "execution_count": 62,
      "outputs": []
    },
    {
      "cell_type": "code",
      "metadata": {
        "id": "uwvVA-wIqPdf"
      },
      "source": [
        "autoencoder, encoder = create_autoencoder(X.shape[-1],y.shape[-1],noise=0.1)\r\n",
        "if TRAINING:\r\n",
        "    autoencoder.fit(X,(X,y),\r\n",
        "                    epochs=1000,\r\n",
        "                    batch_size=4096, \r\n",
        "                    validation_split=0.1,\r\n",
        "                    callbacks=[EarlyStopping('val_loss',patience=10,restore_best_weights=True)])\r\n",
        "    encoder.save_weights('/content/gdrive/MyDrive/Kaggle/JaneStreet/encoder.hdf5')\r\n",
        "# else:\r\n",
        "    # encoder.load_weights('../input/vae223/encoder.hdf5')\r\n",
        "encoder.trainable = False\r\n"
      ],
      "execution_count": 65,
      "outputs": []
    },
    {
      "cell_type": "code",
      "metadata": {
        "id": "RG4ehgiRqPbd"
      },
      "source": [
        ""
      ],
      "execution_count": null,
      "outputs": []
    },
    {
      "cell_type": "code",
      "metadata": {
        "id": "hF749I58qPZB"
      },
      "source": [
        ""
      ],
      "execution_count": null,
      "outputs": []
    },
    {
      "cell_type": "code",
      "metadata": {
        "id": "sXpby0OyqPWE"
      },
      "source": [
        ""
      ],
      "execution_count": null,
      "outputs": []
    },
    {
      "cell_type": "code",
      "metadata": {
        "id": "ZAAU6Xm-qPNG"
      },
      "source": [
        ""
      ],
      "execution_count": null,
      "outputs": []
    }
  ]
}