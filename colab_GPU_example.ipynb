{
  "nbformat": 4,
  "nbformat_minor": 0,
  "metadata": {
    "colab": {
      "name": "colab_GPU_example.ipynb",
      "provenance": [],
      "collapsed_sections": [],
      "authorship_tag": "ABX9TyPpFySyQJX7Q0eGLwfuuF7A",
      "include_colab_link": true
    },
    "kernelspec": {
      "name": "python3",
      "display_name": "Python 3"
    },
    "accelerator": "GPU"
  },
  "cells": [
    {
      "cell_type": "markdown",
      "metadata": {
        "id": "view-in-github",
        "colab_type": "text"
      },
      "source": [
        "<a href=\"https://colab.research.google.com/github/whkwls2653/Kaggle_JaneStreet/blob/main/colab_GPU_example.ipynb\" target=\"_parent\"><img src=\"https://colab.research.google.com/assets/colab-badge.svg\" alt=\"Open In Colab\"/></a>"
      ]
    },
    {
      "cell_type": "code",
      "metadata": {
        "id": "DGpJBphCyR_W"
      },
      "source": [
        "############ feature engineering + resnet"
      ],
      "execution_count": null,
      "outputs": []
    },
    {
      "cell_type": "code",
      "metadata": {
        "id": "BCw9cxj6lWgc",
        "colab": {
          "base_uri": "https://localhost:8080/"
        },
        "outputId": "293231fb-d1b3-4b4d-e2d7-be40f956a38e"
      },
      "source": [
        "from google.colab import drive\r\n",
        "drive.mount('/content/gdrive')"
      ],
      "execution_count": null,
      "outputs": [
        {
          "output_type": "stream",
          "text": [
            "Mounted at /content/gdrive\n"
          ],
          "name": "stdout"
        }
      ]
    },
    {
      "cell_type": "code",
      "metadata": {
        "colab": {
          "base_uri": "https://localhost:8080/",
          "height": 16
        },
        "id": "4l7vwDw0D3D4",
        "outputId": "717b3fe9-2788-477f-c704-18ba5d8ae200"
      },
      "source": [
        "from google.colab import files\r\n",
        "files.download('/content/gdrive/MyDrive/Kaggle/[부문 1] 데이터 명세_신경계 질환 AI데이터_CT.pdf')\r\n",
        "files.download('/content/gdrive/MyDrive/Kaggle/[부문 1] 신경계질환_뇌혈관CT_데이터구성.xlsx')\r\n",
        "files.download('/content/gdrive/MyDrive/Kaggle/[부문 1] 테크니컬리포트_신경계_뇌혈관질환_CT.pdf')\r\n",
        "files.download('/content/gdrive/MyDrive/Kaggle/00000004.json')\r\n",
        "files.download('/content/gdrive/MyDrive/Kaggle/00000001.png')"
      ],
      "execution_count": null,
      "outputs": [
        {
          "output_type": "display_data",
          "data": {
            "application/javascript": [
              "\n",
              "    async function download(id, filename, size) {\n",
              "      if (!google.colab.kernel.accessAllowed) {\n",
              "        return;\n",
              "      }\n",
              "      const div = document.createElement('div');\n",
              "      const label = document.createElement('label');\n",
              "      label.textContent = `Downloading \"${filename}\": `;\n",
              "      div.appendChild(label);\n",
              "      const progress = document.createElement('progress');\n",
              "      progress.max = size;\n",
              "      div.appendChild(progress);\n",
              "      document.body.appendChild(div);\n",
              "\n",
              "      const buffers = [];\n",
              "      let downloaded = 0;\n",
              "\n",
              "      const channel = await google.colab.kernel.comms.open(id);\n",
              "      // Send a message to notify the kernel that we're ready.\n",
              "      channel.send({})\n",
              "\n",
              "      for await (const message of channel.messages) {\n",
              "        // Send a message to notify the kernel that we're ready.\n",
              "        channel.send({})\n",
              "        if (message.buffers) {\n",
              "          for (const buffer of message.buffers) {\n",
              "            buffers.push(buffer);\n",
              "            downloaded += buffer.byteLength;\n",
              "            progress.value = downloaded;\n",
              "          }\n",
              "        }\n",
              "      }\n",
              "      const blob = new Blob(buffers, {type: 'application/binary'});\n",
              "      const a = document.createElement('a');\n",
              "      a.href = window.URL.createObjectURL(blob);\n",
              "      a.download = filename;\n",
              "      div.appendChild(a);\n",
              "      a.click();\n",
              "      div.remove();\n",
              "    }\n",
              "  "
            ],
            "text/plain": [
              "<IPython.core.display.Javascript object>"
            ]
          },
          "metadata": {
            "tags": []
          }
        },
        {
          "output_type": "display_data",
          "data": {
            "application/javascript": [
              "download(\"download_3b55658e-41b2-41e2-b9b0-7b6bd7c31765\", \"[\\u1107\\u116e\\u1106\\u116e\\u11ab 1] \\u1103\\u1166\\u110b\\u1175\\u1110\\u1165 \\u1106\\u1167\\u11bc\\u1109\\u1166_\\u1109\\u1175\\u11ab\\u1100\\u1167\\u11bc\\u1100\\u1168 \\u110c\\u1175\\u11af\\u1112\\u116a\\u11ab AI\\u1103\\u1166\\u110b\\u1175\\u1110\\u1165_CT.pdf\", 76736)"
            ],
            "text/plain": [
              "<IPython.core.display.Javascript object>"
            ]
          },
          "metadata": {
            "tags": []
          }
        },
        {
          "output_type": "display_data",
          "data": {
            "application/javascript": [
              "\n",
              "    async function download(id, filename, size) {\n",
              "      if (!google.colab.kernel.accessAllowed) {\n",
              "        return;\n",
              "      }\n",
              "      const div = document.createElement('div');\n",
              "      const label = document.createElement('label');\n",
              "      label.textContent = `Downloading \"${filename}\": `;\n",
              "      div.appendChild(label);\n",
              "      const progress = document.createElement('progress');\n",
              "      progress.max = size;\n",
              "      div.appendChild(progress);\n",
              "      document.body.appendChild(div);\n",
              "\n",
              "      const buffers = [];\n",
              "      let downloaded = 0;\n",
              "\n",
              "      const channel = await google.colab.kernel.comms.open(id);\n",
              "      // Send a message to notify the kernel that we're ready.\n",
              "      channel.send({})\n",
              "\n",
              "      for await (const message of channel.messages) {\n",
              "        // Send a message to notify the kernel that we're ready.\n",
              "        channel.send({})\n",
              "        if (message.buffers) {\n",
              "          for (const buffer of message.buffers) {\n",
              "            buffers.push(buffer);\n",
              "            downloaded += buffer.byteLength;\n",
              "            progress.value = downloaded;\n",
              "          }\n",
              "        }\n",
              "      }\n",
              "      const blob = new Blob(buffers, {type: 'application/binary'});\n",
              "      const a = document.createElement('a');\n",
              "      a.href = window.URL.createObjectURL(blob);\n",
              "      a.download = filename;\n",
              "      div.appendChild(a);\n",
              "      a.click();\n",
              "      div.remove();\n",
              "    }\n",
              "  "
            ],
            "text/plain": [
              "<IPython.core.display.Javascript object>"
            ]
          },
          "metadata": {
            "tags": []
          }
        },
        {
          "output_type": "display_data",
          "data": {
            "application/javascript": [
              "download(\"download_a9447c02-8c6a-4ba1-80cb-1b59466cf913\", \"[\\u1107\\u116e\\u1106\\u116e\\u11ab 1] \\u1109\\u1175\\u11ab\\u1100\\u1167\\u11bc\\u1100\\u1168\\u110c\\u1175\\u11af\\u1112\\u116a\\u11ab_\\u1102\\u116c\\u1112\\u1167\\u11af\\u1100\\u116a\\u11abCT_\\u1103\\u1166\\u110b\\u1175\\u1110\\u1165\\u1100\\u116e\\u1109\\u1165\\u11bc.xlsx\", 31315)"
            ],
            "text/plain": [
              "<IPython.core.display.Javascript object>"
            ]
          },
          "metadata": {
            "tags": []
          }
        },
        {
          "output_type": "display_data",
          "data": {
            "application/javascript": [
              "\n",
              "    async function download(id, filename, size) {\n",
              "      if (!google.colab.kernel.accessAllowed) {\n",
              "        return;\n",
              "      }\n",
              "      const div = document.createElement('div');\n",
              "      const label = document.createElement('label');\n",
              "      label.textContent = `Downloading \"${filename}\": `;\n",
              "      div.appendChild(label);\n",
              "      const progress = document.createElement('progress');\n",
              "      progress.max = size;\n",
              "      div.appendChild(progress);\n",
              "      document.body.appendChild(div);\n",
              "\n",
              "      const buffers = [];\n",
              "      let downloaded = 0;\n",
              "\n",
              "      const channel = await google.colab.kernel.comms.open(id);\n",
              "      // Send a message to notify the kernel that we're ready.\n",
              "      channel.send({})\n",
              "\n",
              "      for await (const message of channel.messages) {\n",
              "        // Send a message to notify the kernel that we're ready.\n",
              "        channel.send({})\n",
              "        if (message.buffers) {\n",
              "          for (const buffer of message.buffers) {\n",
              "            buffers.push(buffer);\n",
              "            downloaded += buffer.byteLength;\n",
              "            progress.value = downloaded;\n",
              "          }\n",
              "        }\n",
              "      }\n",
              "      const blob = new Blob(buffers, {type: 'application/binary'});\n",
              "      const a = document.createElement('a');\n",
              "      a.href = window.URL.createObjectURL(blob);\n",
              "      a.download = filename;\n",
              "      div.appendChild(a);\n",
              "      a.click();\n",
              "      div.remove();\n",
              "    }\n",
              "  "
            ],
            "text/plain": [
              "<IPython.core.display.Javascript object>"
            ]
          },
          "metadata": {
            "tags": []
          }
        },
        {
          "output_type": "display_data",
          "data": {
            "application/javascript": [
              "download(\"download_a1fe2f65-1162-45e2-9a47-a4c4670b86c5\", \"[\\u1107\\u116e\\u1106\\u116e\\u11ab 1] \\u1110\\u1166\\u110f\\u1173\\u1102\\u1175\\u110f\\u1165\\u11af\\u1105\\u1175\\u1111\\u1169\\u1110\\u1173_\\u1109\\u1175\\u11ab\\u1100\\u1167\\u11bc\\u1100\\u1168_\\u1102\\u116c\\u1112\\u1167\\u11af\\u1100\\u116a\\u11ab\\u110c\\u1175\\u11af\\u1112\\u116a\\u11ab_CT.pdf\", 679277)"
            ],
            "text/plain": [
              "<IPython.core.display.Javascript object>"
            ]
          },
          "metadata": {
            "tags": []
          }
        },
        {
          "output_type": "display_data",
          "data": {
            "application/javascript": [
              "\n",
              "    async function download(id, filename, size) {\n",
              "      if (!google.colab.kernel.accessAllowed) {\n",
              "        return;\n",
              "      }\n",
              "      const div = document.createElement('div');\n",
              "      const label = document.createElement('label');\n",
              "      label.textContent = `Downloading \"${filename}\": `;\n",
              "      div.appendChild(label);\n",
              "      const progress = document.createElement('progress');\n",
              "      progress.max = size;\n",
              "      div.appendChild(progress);\n",
              "      document.body.appendChild(div);\n",
              "\n",
              "      const buffers = [];\n",
              "      let downloaded = 0;\n",
              "\n",
              "      const channel = await google.colab.kernel.comms.open(id);\n",
              "      // Send a message to notify the kernel that we're ready.\n",
              "      channel.send({})\n",
              "\n",
              "      for await (const message of channel.messages) {\n",
              "        // Send a message to notify the kernel that we're ready.\n",
              "        channel.send({})\n",
              "        if (message.buffers) {\n",
              "          for (const buffer of message.buffers) {\n",
              "            buffers.push(buffer);\n",
              "            downloaded += buffer.byteLength;\n",
              "            progress.value = downloaded;\n",
              "          }\n",
              "        }\n",
              "      }\n",
              "      const blob = new Blob(buffers, {type: 'application/binary'});\n",
              "      const a = document.createElement('a');\n",
              "      a.href = window.URL.createObjectURL(blob);\n",
              "      a.download = filename;\n",
              "      div.appendChild(a);\n",
              "      a.click();\n",
              "      div.remove();\n",
              "    }\n",
              "  "
            ],
            "text/plain": [
              "<IPython.core.display.Javascript object>"
            ]
          },
          "metadata": {
            "tags": []
          }
        },
        {
          "output_type": "display_data",
          "data": {
            "application/javascript": [
              "download(\"download_3c00c826-66c9-4670-915a-390a3d45d462\", \"00000004.json\", 1620)"
            ],
            "text/plain": [
              "<IPython.core.display.Javascript object>"
            ]
          },
          "metadata": {
            "tags": []
          }
        },
        {
          "output_type": "display_data",
          "data": {
            "application/javascript": [
              "\n",
              "    async function download(id, filename, size) {\n",
              "      if (!google.colab.kernel.accessAllowed) {\n",
              "        return;\n",
              "      }\n",
              "      const div = document.createElement('div');\n",
              "      const label = document.createElement('label');\n",
              "      label.textContent = `Downloading \"${filename}\": `;\n",
              "      div.appendChild(label);\n",
              "      const progress = document.createElement('progress');\n",
              "      progress.max = size;\n",
              "      div.appendChild(progress);\n",
              "      document.body.appendChild(div);\n",
              "\n",
              "      const buffers = [];\n",
              "      let downloaded = 0;\n",
              "\n",
              "      const channel = await google.colab.kernel.comms.open(id);\n",
              "      // Send a message to notify the kernel that we're ready.\n",
              "      channel.send({})\n",
              "\n",
              "      for await (const message of channel.messages) {\n",
              "        // Send a message to notify the kernel that we're ready.\n",
              "        channel.send({})\n",
              "        if (message.buffers) {\n",
              "          for (const buffer of message.buffers) {\n",
              "            buffers.push(buffer);\n",
              "            downloaded += buffer.byteLength;\n",
              "            progress.value = downloaded;\n",
              "          }\n",
              "        }\n",
              "      }\n",
              "      const blob = new Blob(buffers, {type: 'application/binary'});\n",
              "      const a = document.createElement('a');\n",
              "      a.href = window.URL.createObjectURL(blob);\n",
              "      a.download = filename;\n",
              "      div.appendChild(a);\n",
              "      a.click();\n",
              "      div.remove();\n",
              "    }\n",
              "  "
            ],
            "text/plain": [
              "<IPython.core.display.Javascript object>"
            ]
          },
          "metadata": {
            "tags": []
          }
        },
        {
          "output_type": "display_data",
          "data": {
            "application/javascript": [
              "download(\"download_6744685d-657d-4aec-abaf-218ffdde2633\", \"00000001.png\", 106620)"
            ],
            "text/plain": [
              "<IPython.core.display.Javascript object>"
            ]
          },
          "metadata": {
            "tags": []
          }
        }
      ]
    },
    {
      "cell_type": "code",
      "metadata": {
        "id": "FjGynfkCcBF5",
        "colab": {
          "base_uri": "https://localhost:8080/"
        },
        "outputId": "f8a759f3-6206-4f5a-dff4-68141335afd2"
      },
      "source": [
        "!pip install tensorflow_addons"
      ],
      "execution_count": null,
      "outputs": [
        {
          "output_type": "stream",
          "text": [
            "Collecting tensorflow_addons\n",
            "\u001b[?25l  Downloading https://files.pythonhosted.org/packages/2e/af/0ce633c373d2b0476ef8299673d22275fcc3c5ba283b2cec4aa06bc5b810/tensorflow_addons-0.12.1-cp36-cp36m-manylinux2010_x86_64.whl (703kB)\n",
            "\r\u001b[K     |▌                               | 10kB 15.2MB/s eta 0:00:01\r\u001b[K     |█                               | 20kB 20.6MB/s eta 0:00:01\r\u001b[K     |█▍                              | 30kB 23.8MB/s eta 0:00:01\r\u001b[K     |█▉                              | 40kB 27.3MB/s eta 0:00:01\r\u001b[K     |██▎                             | 51kB 26.1MB/s eta 0:00:01\r\u001b[K     |██▉                             | 61kB 28.7MB/s eta 0:00:01\r\u001b[K     |███▎                            | 71kB 18.2MB/s eta 0:00:01\r\u001b[K     |███▊                            | 81kB 17.3MB/s eta 0:00:01\r\u001b[K     |████▏                           | 92kB 17.6MB/s eta 0:00:01\r\u001b[K     |████▋                           | 102kB 18.2MB/s eta 0:00:01\r\u001b[K     |█████▏                          | 112kB 18.2MB/s eta 0:00:01\r\u001b[K     |█████▋                          | 122kB 18.2MB/s eta 0:00:01\r\u001b[K     |██████                          | 133kB 18.2MB/s eta 0:00:01\r\u001b[K     |██████▌                         | 143kB 18.2MB/s eta 0:00:01\r\u001b[K     |███████                         | 153kB 18.2MB/s eta 0:00:01\r\u001b[K     |███████▌                        | 163kB 18.2MB/s eta 0:00:01\r\u001b[K     |████████                        | 174kB 18.2MB/s eta 0:00:01\r\u001b[K     |████████▍                       | 184kB 18.2MB/s eta 0:00:01\r\u001b[K     |████████▉                       | 194kB 18.2MB/s eta 0:00:01\r\u001b[K     |█████████▎                      | 204kB 18.2MB/s eta 0:00:01\r\u001b[K     |█████████▉                      | 215kB 18.2MB/s eta 0:00:01\r\u001b[K     |██████████▎                     | 225kB 18.2MB/s eta 0:00:01\r\u001b[K     |██████████▊                     | 235kB 18.2MB/s eta 0:00:01\r\u001b[K     |███████████▏                    | 245kB 18.2MB/s eta 0:00:01\r\u001b[K     |███████████▋                    | 256kB 18.2MB/s eta 0:00:01\r\u001b[K     |████████████▏                   | 266kB 18.2MB/s eta 0:00:01\r\u001b[K     |████████████▋                   | 276kB 18.2MB/s eta 0:00:01\r\u001b[K     |█████████████                   | 286kB 18.2MB/s eta 0:00:01\r\u001b[K     |█████████████▌                  | 296kB 18.2MB/s eta 0:00:01\r\u001b[K     |██████████████                  | 307kB 18.2MB/s eta 0:00:01\r\u001b[K     |██████████████▍                 | 317kB 18.2MB/s eta 0:00:01\r\u001b[K     |███████████████                 | 327kB 18.2MB/s eta 0:00:01\r\u001b[K     |███████████████▍                | 337kB 18.2MB/s eta 0:00:01\r\u001b[K     |███████████████▉                | 348kB 18.2MB/s eta 0:00:01\r\u001b[K     |████████████████▎               | 358kB 18.2MB/s eta 0:00:01\r\u001b[K     |████████████████▊               | 368kB 18.2MB/s eta 0:00:01\r\u001b[K     |█████████████████▎              | 378kB 18.2MB/s eta 0:00:01\r\u001b[K     |█████████████████▊              | 389kB 18.2MB/s eta 0:00:01\r\u001b[K     |██████████████████▏             | 399kB 18.2MB/s eta 0:00:01\r\u001b[K     |██████████████████▋             | 409kB 18.2MB/s eta 0:00:01\r\u001b[K     |███████████████████             | 419kB 18.2MB/s eta 0:00:01\r\u001b[K     |███████████████████▋            | 430kB 18.2MB/s eta 0:00:01\r\u001b[K     |████████████████████            | 440kB 18.2MB/s eta 0:00:01\r\u001b[K     |████████████████████▌           | 450kB 18.2MB/s eta 0:00:01\r\u001b[K     |█████████████████████           | 460kB 18.2MB/s eta 0:00:01\r\u001b[K     |█████████████████████▍          | 471kB 18.2MB/s eta 0:00:01\r\u001b[K     |██████████████████████          | 481kB 18.2MB/s eta 0:00:01\r\u001b[K     |██████████████████████▍         | 491kB 18.2MB/s eta 0:00:01\r\u001b[K     |██████████████████████▉         | 501kB 18.2MB/s eta 0:00:01\r\u001b[K     |███████████████████████▎        | 512kB 18.2MB/s eta 0:00:01\r\u001b[K     |███████████████████████▊        | 522kB 18.2MB/s eta 0:00:01\r\u001b[K     |████████████████████████▎       | 532kB 18.2MB/s eta 0:00:01\r\u001b[K     |████████████████████████▊       | 542kB 18.2MB/s eta 0:00:01\r\u001b[K     |█████████████████████████▏      | 552kB 18.2MB/s eta 0:00:01\r\u001b[K     |█████████████████████████▋      | 563kB 18.2MB/s eta 0:00:01\r\u001b[K     |██████████████████████████      | 573kB 18.2MB/s eta 0:00:01\r\u001b[K     |██████████████████████████▋     | 583kB 18.2MB/s eta 0:00:01\r\u001b[K     |███████████████████████████     | 593kB 18.2MB/s eta 0:00:01\r\u001b[K     |███████████████████████████▌    | 604kB 18.2MB/s eta 0:00:01\r\u001b[K     |████████████████████████████    | 614kB 18.2MB/s eta 0:00:01\r\u001b[K     |████████████████████████████▍   | 624kB 18.2MB/s eta 0:00:01\r\u001b[K     |████████████████████████████▉   | 634kB 18.2MB/s eta 0:00:01\r\u001b[K     |█████████████████████████████▍  | 645kB 18.2MB/s eta 0:00:01\r\u001b[K     |█████████████████████████████▉  | 655kB 18.2MB/s eta 0:00:01\r\u001b[K     |██████████████████████████████▎ | 665kB 18.2MB/s eta 0:00:01\r\u001b[K     |██████████████████████████████▊ | 675kB 18.2MB/s eta 0:00:01\r\u001b[K     |███████████████████████████████▏| 686kB 18.2MB/s eta 0:00:01\r\u001b[K     |███████████████████████████████▊| 696kB 18.2MB/s eta 0:00:01\r\u001b[K     |████████████████████████████████| 706kB 18.2MB/s \n",
            "\u001b[?25hRequirement already satisfied: typeguard>=2.7 in /usr/local/lib/python3.6/dist-packages (from tensorflow_addons) (2.7.1)\n",
            "Installing collected packages: tensorflow-addons\n",
            "Successfully installed tensorflow-addons-0.12.1\n"
          ],
          "name": "stdout"
        }
      ]
    },
    {
      "cell_type": "code",
      "metadata": {
        "colab": {
          "base_uri": "https://localhost:8080/",
          "height": 783
        },
        "id": "VrS5ZePjlfN7",
        "outputId": "f9f8618c-ff9a-4877-95c6-f06443dc0131"
      },
      "source": [
        "from tensorflow.keras.layers import Input, Dense, BatchNormalization, Dropout, Concatenate, Lambda, GaussianNoise, Activation\r\n",
        "from tensorflow.keras.models import Model, Sequential\r\n",
        "from tensorflow.keras.losses import BinaryCrossentropy\r\n",
        "from tensorflow.keras.optimizers import Adam\r\n",
        "from tensorflow.keras.callbacks import EarlyStopping\r\n",
        "from tensorflow.keras.layers.experimental.preprocessing import Normalization\r\n",
        "import tensorflow_addons as tfa\r\n",
        "import tensorflow as tf\r\n",
        "import numpy as np\r\n",
        "import pandas as pd\r\n",
        "from tqdm import tqdm\r\n",
        "from random import choices\r\n",
        "import os\r\n",
        "\r\n",
        "SEED = 1111\r\n",
        "\r\n",
        "tf.random.set_seed(SEED)\r\n",
        "np.random.seed(SEED)\r\n",
        "\r\n",
        "\r\n",
        "save=True\r\n",
        "resume=False\r\n",
        "Train=True\r\n",
        "########################################여기 참조하세요!!!!!!!!!!!!!!#####################\r\n",
        "\r\n",
        "print(\"reading csv input .....\")\r\n",
        "if 'train' in locals():\r\n",
        "  print(\"Alreday have, skip reading\")\r\n",
        "else:\r\n",
        "  train = pd.read_csv('/content/gdrive/MyDrive/Kaggle/janestreet/train.csv')\r\n",
        "print(\"finish reading input\")\r\n",
        "########################################여기 참조하세요!!!!!!!!!!!!!!#####################\r\n",
        "\r\n",
        "\r\n",
        "\r\n",
        "train = train.query('date > 85').reset_index(drop = True) \r\n",
        "train = train[train['weight'] != 0]\r\n",
        "\r\n",
        "\r\n",
        "\r\n",
        "train.fillna(train.mean(),inplace=True)\r\n",
        "\r\n",
        "\r\n",
        "\r\n",
        "train['action'] = ((train['resp'].values) > 0).astype(int) #* ((train['feature_0'].values)==-1).astype(int)\r\n",
        "\r\n",
        "# train['action'] = (train[featrues[0]==1).astype(int)\r\n",
        "\r\n",
        "features = [c for c in train.columns if \"feature\" in c]\r\n",
        "\r\n",
        "f_mean = np.mean(train[features[1:]].values,axis=0)\r\n",
        "\r\n",
        "resp_cols = ['resp_1', 'resp_2', 'resp_3', 'resp', 'resp_4']\r\n",
        "\r\n",
        "X_train = train.loc[:, train.columns.str.contains('feature')]\r\n",
        "#y_train = (train.loc[:, 'action'])\r\n",
        "for i in range(10): \r\n",
        "  X_train['new_feature_'+str(i)]=100\r\n",
        "X_train['new_feature_1']=X_train['feature_41']+X_train['feature_42']+X_train['feature_43']\r\n",
        "X_train['new_feature_2']=X_train['feature_1']/(X_train['feature_2']+1e-5)\r\n",
        "X_train['feature_68']=X_train['feature_68']/(X_train['feature_60']+1e-5)\r\n",
        "X_train['feature_67']=X_train['feature_67']/(X_train['feature_60']+1e-5)\r\n",
        "X_train['feature_66']=X_train['feature_66']/(X_train['feature_60']+1e-5)\r\n",
        "X_train['feature_65']=X_train['feature_65']/(X_train['feature_60']+1e-5)\r\n",
        "X_train['feature_64']=X_train['feature_64']/(X_train['feature_60']+1e-5)\r\n",
        "X_train['feature_63']=X_train['feature_63']/(X_train['feature_60']+1e-5)\r\n",
        "X_train['feature_62']=X_train['feature_62']/(X_train['feature_60']+1e-5)\r\n",
        "X_train['feature_61']=X_train['feature_61']/(X_train['feature_60']+1e-5)\r\n",
        "X_train['feature_60']=X_train['feature_60']/(X_train['feature_60']+1e-5)\r\n",
        "####\r\n",
        "X_train['feature_59']=X_train['feature_59']/(X_train['feature_55']+1e-5)\r\n",
        "X_train['feature_58']=X_train['feature_58']/(X_train['feature_55']+1e-5)\r\n",
        "X_train['feature_57']=X_train['feature_57']/(X_train['feature_55']+1e-5)\r\n",
        "X_train['feature_56']=X_train['feature_56']/(X_train['feature_55']+1e-5)\r\n",
        "X_train['feature_55']=X_train['feature_55']/(X_train['feature_55']+1e-5)\r\n",
        "###\r\n",
        "X_train['feature_15']=X_train['feature_15']/(X_train['feature_7']+1e-5)\r\n",
        "X_train['feature_13']=X_train['feature_13']/(X_train['feature_7']+1e-5)\r\n",
        "X_train['feature_11']=X_train['feature_11']/(X_train['feature_7']+1e-5)\r\n",
        "X_train['feature_9']=X_train['feature_9']/(X_train['feature_7']+1e-5)\r\n",
        "X_train['feature_7']=X_train['feature_7']/(X_train['feature_7']+1e-5)\r\n",
        "###\r\n",
        "X_train['feature_16']=X_train['feature_16']/(X_train['feature_8']+1e-5)\r\n",
        "X_train['feature_14']=X_train['feature_14']/(X_train['feature_8']+1e-5)\r\n",
        "X_train['feature_12']=X_train['feature_12']/(X_train['feature_8']+1e-5)\r\n",
        "X_train['feature_10']=X_train['feature_10']/(X_train['feature_8']+1e-5)\r\n",
        "X_train['feature_8']=X_train['feature_8']/(X_train['feature_8']+1e-5)\r\n",
        "#####\r\n",
        "X_train['feature_25']=X_train['feature_25']/(X_train['feature_17']+1e-5)\r\n",
        "X_train['feature_23']=X_train['feature_23']/(X_train['feature_17']+1e-5)\r\n",
        "X_train['feature_21']=X_train['feature_21']/(X_train['feature_17']+1e-5)\r\n",
        "X_train['feature_19']=X_train['feature_19']/(X_train['feature_17']+1e-5)\r\n",
        "X_train['feature_17']=X_train['feature_17']/(X_train['feature_17']+1e-5)\r\n",
        "####\r\n",
        "X_train['feature_26']=X_train['feature_26']/(X_train['feature_18']+1e-5)\r\n",
        "X_train['feature_24']=X_train['feature_24']/(X_train['feature_18']+1e-5)\r\n",
        "X_train['feature_22']=X_train['feature_22']/(X_train['feature_18']+1e-5)\r\n",
        "X_train['feature_20']=X_train['feature_20']/(X_train['feature_18']+1e-5)\r\n",
        "X_train['feature_18']=X_train['feature_18']/(X_train['feature_18']+1e-5)\r\n",
        "####\r\n",
        "X_train['feature_35']=X_train['feature_27']/(X_train['feature_27']+1e-5)\r\n",
        "\r\n",
        "\r\n",
        "y_train = np.stack([(train[c] > 0).astype('int') for c in resp_cols]).T\r\n",
        "\r\n",
        "################## feature engineering#################\r\n",
        "\r\n",
        "\r\n",
        "\r\n",
        "\r\n",
        "\r\n",
        "\r\n",
        "########################################여기 참조하세요!!!!!!!!!!!!!!#####################\r\n",
        "\r\n",
        "def create_mlp(\r\n",
        "    num_columns, num_labels, hidden_units, dropout_rates, label_smoothing, learning_rate\r\n",
        "):\r\n",
        "\r\n",
        "    inp = tf.keras.layers.Input(shape=(num_columns,))\r\n",
        "    x = tf.keras.layers.BatchNormalization()(inp)\r\n",
        "    x = tf.keras.layers.Dropout(dropout_rates[0])(x)\r\n",
        "    for i in range(len(hidden_units)):\r\n",
        "        x = tf.keras.layers.Dense(hidden_units[i])(x)\r\n",
        "        x = tf.keras.layers.BatchNormalization()(x)\r\n",
        "        x = tf.keras.layers.Activation(tf.keras.activations.swish)(x)\r\n",
        "\r\n",
        "        x = tf.keras.layers.Dropout(dropout_rates[i + 1])(x)\r\n",
        "\r\n",
        "    x = tf.keras.layers.Dense(num_labels)(x)\r\n",
        "    out = tf.keras.layers.Activation(\"sigmoid\")(x)\r\n",
        "\r\n",
        "    model = tf.keras.models.Model(inputs=inp, outputs=out)\r\n",
        "    model.compile(\r\n",
        "        optimizer=tfa.optimizers.RectifiedAdam(learning_rate=learning_rate),\r\n",
        "        loss=tf.keras.losses.BinaryCrossentropy(label_smoothing=label_smoothing),\r\n",
        "        metrics=tf.keras.metrics.AUC(name=\"AUC\"),\r\n",
        "    )\r\n",
        "\r\n",
        "    return model\r\n",
        "\r\n",
        "\r\n",
        "batch_size = 4096\r\n",
        "hidden_units = [160, 160, 160]\r\n",
        "dropout_rates = [0.20, 0.20, 0.20, 0.20]\r\n",
        "label_smoothing = 1e-2\r\n",
        "learning_rate = 1e-3\r\n",
        "tf.keras.backend.clear_session()\r\n",
        "tf.random.set_seed(SEED)\r\n",
        "\r\n",
        "checkpoint_path = \"/content/gdrive/MyDrive/Kaggle/janestreet/feature_test/cp.ckpt\"\r\n",
        "checkpoint_dir = os.path.dirname(checkpoint_path)\r\n",
        "if save==True:\r\n",
        "\r\n",
        "  cp_callback = tf.keras.callbacks.ModelCheckpoint(filepath=checkpoint_path, save_weights_only=True,monitor='AUC', verbose=1)\r\n",
        "\r\n",
        "\r\n",
        "\r\n",
        "\r\n",
        "\r\n",
        "clf = create_mlp(\r\n",
        "    len(features), 5, hidden_units, dropout_rates, label_smoothing, learning_rate\r\n",
        "    )\r\n",
        "\r\n",
        "if resume==True:\r\n",
        "  clf.load_weights(checkpoint_path)\r\n",
        "if Train==True:\r\n",
        "  clf.fit(X_train, y_train, epochs=200, batch_size=5000,callbacks=[cp_callback] )\r\n",
        "#######################\r\n",
        "# clf2 = create_mlp(\r\n",
        "#     len(features), 5, hidden_units, dropout_rates, label_smoothing, learning_rate\r\n",
        "#     )\r\n",
        "\r\n",
        "# checkpoint_path = \"/content/gdrive/MyDrive/Kaggle/janestreet/150hidden_250epoch/cp.ckpt\"\r\n",
        "# checkpoint_dir = os.path.dirname(checkpoint_path)\r\n",
        "# if save==True:\r\n",
        "\r\n",
        "#   cp_callback = tf.keras.callbacks.ModelCheckpoint(filepath=checkpoint_path, save_weights_only=True,monitor='AUC', verbose=1)\r\n",
        "\r\n",
        "\r\n",
        "# clf2.fit(X_train, y_train, epochs=250, batch_size=5000,callbacks=[cp_callback] )\r\n",
        "# #############################################################################\r\n",
        "# clf3 = create_mlp(\r\n",
        "#     len(features), 5, hidden_units, dropout_rates, label_smoothing, learning_rate\r\n",
        "#     )\r\n",
        "\r\n",
        "# checkpoint_path = \"/content/gdrive/MyDrive/Kaggle/janestreet/150epoch_best_save_only1/cp.ckpt\"\r\n",
        "# checkpoint_dir = os.path.dirname(checkpoint_path)\r\n",
        "# if save==True:\r\n",
        "\r\n",
        "#   cp_callback = tf.keras.callbacks.ModelCheckpoint(filepath=checkpoint_path, save_weights_only=True,monitor='AUC',mode='max', save_best_only=True, verbose=1)\r\n",
        "\r\n",
        "\r\n",
        "# clf3.fit(X_train, y_train, epochs=150, batch_size=5000,callbacks=[cp_callback] )\r\n",
        "\r\n",
        "########################################여기 참조하세요!!!!!!!!!!!!!!#####################\r\n",
        "\r\n",
        "\r\n",
        "\r\n",
        "\r\n",
        "models = []\r\n",
        "\r\n",
        "models.append(clf)\r\n",
        "\r\n",
        "th = 0.502\r\n",
        "\r\n",
        "\r\n",
        "f = np.median\r\n",
        "models = models[-3:]\r\n",
        "import janestreet\r\n",
        "env = janestreet.make_env()\r\n",
        "for (test_df, pred_df) in tqdm(env.iter_test()):\r\n",
        "    if test_df['weight'].item() > 0:\r\n",
        "        x_tt = test_df.loc[:, features].values\r\n",
        "        if np.isnan(x_tt[:, 1:].sum()):\r\n",
        "            x_tt[:, 1:] = np.nan_to_num(x_tt[:, 1:]) + np.isnan(x_tt[:, 1:]) * f_mean\r\n",
        "        pred = np.mean([model(x_tt, training = False).numpy() for model in models],axis=0)\r\n",
        "        pred = f(pred)\r\n",
        "        pred_df.action = np.where(pred >= th, 1, 0).astype(int)\r\n",
        "    else:\r\n",
        "        pred_df.action = 0\r\n",
        "    env.predict(pred_df)"
      ],
      "execution_count": null,
      "outputs": [
        {
          "output_type": "stream",
          "text": [
            "reading csv input .....\n",
            "finish reading input\n"
          ],
          "name": "stdout"
        },
        {
          "output_type": "stream",
          "text": [
            "/usr/local/lib/python3.6/dist-packages/ipykernel_launcher.py:58: SettingWithCopyWarning: \n",
            "A value is trying to be set on a copy of a slice from a DataFrame.\n",
            "Try using .loc[row_indexer,col_indexer] = value instead\n",
            "\n",
            "See the caveats in the documentation: https://pandas.pydata.org/pandas-docs/stable/user_guide/indexing.html#returning-a-view-versus-a-copy\n"
          ],
          "name": "stderr"
        },
        {
          "output_type": "stream",
          "text": [
            "         feature_0  feature_1  ...  new_feature_8  new_feature_9\n",
            "0                1   3.151305  ...            100            100\n",
            "2               -1  -0.365888  ...            100            100\n",
            "3                1   1.514607  ...            100            100\n",
            "6               -1  -1.008999  ...            100            100\n",
            "7               -1  -0.391784  ...            100            100\n",
            "...            ...        ...  ...            ...            ...\n",
            "1862550         -1   1.538675  ...            100            100\n",
            "1862552          1   0.270380  ...            100            100\n",
            "1862584         -1  -0.134380  ...            100            100\n",
            "1862587         -1  -0.779554  ...            100            100\n",
            "1862595         -1  -1.463757  ...            100            100\n",
            "\n",
            "[1571415 rows x 140 columns]\n"
          ],
          "name": "stdout"
        },
        {
          "output_type": "error",
          "ename": "KeyError",
          "evalue": "ignored",
          "traceback": [
            "\u001b[0;31m---------------------------------------------------------------------------\u001b[0m",
            "\u001b[0;31mKeyError\u001b[0m                                  Traceback (most recent call last)",
            "\u001b[0;32m<ipython-input-3-6c35955e979e>\u001b[0m in \u001b[0;36m<module>\u001b[0;34m()\u001b[0m\n\u001b[1;32m     83\u001b[0m \u001b[0;34m\u001b[0m\u001b[0m\n\u001b[1;32m     84\u001b[0m \u001b[0mprint\u001b[0m\u001b[0;34m(\u001b[0m\u001b[0mX_train\u001b[0m\u001b[0;34m)\u001b[0m\u001b[0;34m\u001b[0m\u001b[0;34m\u001b[0m\u001b[0m\n\u001b[0;32m---> 85\u001b[0;31m \u001b[0mX_train\u001b[0m\u001b[0;34m=\u001b[0m\u001b[0mX_train\u001b[0m\u001b[0;34m.\u001b[0m\u001b[0mdrop\u001b[0m\u001b[0;34m(\u001b[0m\u001b[0;34m[\u001b[0m\u001b[0;34m'new_feature0'\u001b[0m\u001b[0;34m,\u001b[0m\u001b[0;34m'feature_1'\u001b[0m\u001b[0;34m]\u001b[0m\u001b[0;34m,\u001b[0m\u001b[0maxis\u001b[0m\u001b[0;34m=\u001b[0m\u001b[0;36m1\u001b[0m\u001b[0;34m)\u001b[0m\u001b[0;34m\u001b[0m\u001b[0;34m\u001b[0m\u001b[0m\n\u001b[0m\u001b[1;32m     86\u001b[0m \u001b[0mprint\u001b[0m\u001b[0;34m(\u001b[0m\u001b[0mX_train\u001b[0m\u001b[0;34m)\u001b[0m\u001b[0;34m\u001b[0m\u001b[0;34m\u001b[0m\u001b[0m\n\u001b[1;32m     87\u001b[0m \u001b[0my_train\u001b[0m \u001b[0;34m=\u001b[0m \u001b[0mnp\u001b[0m\u001b[0;34m.\u001b[0m\u001b[0mstack\u001b[0m\u001b[0;34m(\u001b[0m\u001b[0;34m[\u001b[0m\u001b[0;34m(\u001b[0m\u001b[0mtrain\u001b[0m\u001b[0;34m[\u001b[0m\u001b[0mc\u001b[0m\u001b[0;34m]\u001b[0m \u001b[0;34m>\u001b[0m \u001b[0;36m0\u001b[0m\u001b[0;34m)\u001b[0m\u001b[0;34m.\u001b[0m\u001b[0mastype\u001b[0m\u001b[0;34m(\u001b[0m\u001b[0;34m'int'\u001b[0m\u001b[0;34m)\u001b[0m \u001b[0;32mfor\u001b[0m \u001b[0mc\u001b[0m \u001b[0;32min\u001b[0m \u001b[0mresp_cols\u001b[0m\u001b[0;34m]\u001b[0m\u001b[0;34m)\u001b[0m\u001b[0;34m.\u001b[0m\u001b[0mT\u001b[0m\u001b[0;34m\u001b[0m\u001b[0;34m\u001b[0m\u001b[0m\n",
            "\u001b[0;32m/usr/local/lib/python3.6/dist-packages/pandas/core/frame.py\u001b[0m in \u001b[0;36mdrop\u001b[0;34m(self, labels, axis, index, columns, level, inplace, errors)\u001b[0m\n\u001b[1;32m   4172\u001b[0m             \u001b[0mlevel\u001b[0m\u001b[0;34m=\u001b[0m\u001b[0mlevel\u001b[0m\u001b[0;34m,\u001b[0m\u001b[0;34m\u001b[0m\u001b[0;34m\u001b[0m\u001b[0m\n\u001b[1;32m   4173\u001b[0m             \u001b[0minplace\u001b[0m\u001b[0;34m=\u001b[0m\u001b[0minplace\u001b[0m\u001b[0;34m,\u001b[0m\u001b[0;34m\u001b[0m\u001b[0;34m\u001b[0m\u001b[0m\n\u001b[0;32m-> 4174\u001b[0;31m             \u001b[0merrors\u001b[0m\u001b[0;34m=\u001b[0m\u001b[0merrors\u001b[0m\u001b[0;34m,\u001b[0m\u001b[0;34m\u001b[0m\u001b[0;34m\u001b[0m\u001b[0m\n\u001b[0m\u001b[1;32m   4175\u001b[0m         )\n\u001b[1;32m   4176\u001b[0m \u001b[0;34m\u001b[0m\u001b[0m\n",
            "\u001b[0;32m/usr/local/lib/python3.6/dist-packages/pandas/core/generic.py\u001b[0m in \u001b[0;36mdrop\u001b[0;34m(self, labels, axis, index, columns, level, inplace, errors)\u001b[0m\n\u001b[1;32m   3887\u001b[0m         \u001b[0;32mfor\u001b[0m \u001b[0maxis\u001b[0m\u001b[0;34m,\u001b[0m \u001b[0mlabels\u001b[0m \u001b[0;32min\u001b[0m \u001b[0maxes\u001b[0m\u001b[0;34m.\u001b[0m\u001b[0mitems\u001b[0m\u001b[0;34m(\u001b[0m\u001b[0;34m)\u001b[0m\u001b[0;34m:\u001b[0m\u001b[0;34m\u001b[0m\u001b[0;34m\u001b[0m\u001b[0m\n\u001b[1;32m   3888\u001b[0m             \u001b[0;32mif\u001b[0m \u001b[0mlabels\u001b[0m \u001b[0;32mis\u001b[0m \u001b[0;32mnot\u001b[0m \u001b[0;32mNone\u001b[0m\u001b[0;34m:\u001b[0m\u001b[0;34m\u001b[0m\u001b[0;34m\u001b[0m\u001b[0m\n\u001b[0;32m-> 3889\u001b[0;31m                 \u001b[0mobj\u001b[0m \u001b[0;34m=\u001b[0m \u001b[0mobj\u001b[0m\u001b[0;34m.\u001b[0m\u001b[0m_drop_axis\u001b[0m\u001b[0;34m(\u001b[0m\u001b[0mlabels\u001b[0m\u001b[0;34m,\u001b[0m \u001b[0maxis\u001b[0m\u001b[0;34m,\u001b[0m \u001b[0mlevel\u001b[0m\u001b[0;34m=\u001b[0m\u001b[0mlevel\u001b[0m\u001b[0;34m,\u001b[0m \u001b[0merrors\u001b[0m\u001b[0;34m=\u001b[0m\u001b[0merrors\u001b[0m\u001b[0;34m)\u001b[0m\u001b[0;34m\u001b[0m\u001b[0;34m\u001b[0m\u001b[0m\n\u001b[0m\u001b[1;32m   3890\u001b[0m \u001b[0;34m\u001b[0m\u001b[0m\n\u001b[1;32m   3891\u001b[0m         \u001b[0;32mif\u001b[0m \u001b[0minplace\u001b[0m\u001b[0;34m:\u001b[0m\u001b[0;34m\u001b[0m\u001b[0;34m\u001b[0m\u001b[0m\n",
            "\u001b[0;32m/usr/local/lib/python3.6/dist-packages/pandas/core/generic.py\u001b[0m in \u001b[0;36m_drop_axis\u001b[0;34m(self, labels, axis, level, errors)\u001b[0m\n\u001b[1;32m   3921\u001b[0m                 \u001b[0mnew_axis\u001b[0m \u001b[0;34m=\u001b[0m \u001b[0maxis\u001b[0m\u001b[0;34m.\u001b[0m\u001b[0mdrop\u001b[0m\u001b[0;34m(\u001b[0m\u001b[0mlabels\u001b[0m\u001b[0;34m,\u001b[0m \u001b[0mlevel\u001b[0m\u001b[0;34m=\u001b[0m\u001b[0mlevel\u001b[0m\u001b[0;34m,\u001b[0m \u001b[0merrors\u001b[0m\u001b[0;34m=\u001b[0m\u001b[0merrors\u001b[0m\u001b[0;34m)\u001b[0m\u001b[0;34m\u001b[0m\u001b[0;34m\u001b[0m\u001b[0m\n\u001b[1;32m   3922\u001b[0m             \u001b[0;32melse\u001b[0m\u001b[0;34m:\u001b[0m\u001b[0;34m\u001b[0m\u001b[0;34m\u001b[0m\u001b[0m\n\u001b[0;32m-> 3923\u001b[0;31m                 \u001b[0mnew_axis\u001b[0m \u001b[0;34m=\u001b[0m \u001b[0maxis\u001b[0m\u001b[0;34m.\u001b[0m\u001b[0mdrop\u001b[0m\u001b[0;34m(\u001b[0m\u001b[0mlabels\u001b[0m\u001b[0;34m,\u001b[0m \u001b[0merrors\u001b[0m\u001b[0;34m=\u001b[0m\u001b[0merrors\u001b[0m\u001b[0;34m)\u001b[0m\u001b[0;34m\u001b[0m\u001b[0;34m\u001b[0m\u001b[0m\n\u001b[0m\u001b[1;32m   3924\u001b[0m             \u001b[0mresult\u001b[0m \u001b[0;34m=\u001b[0m \u001b[0mself\u001b[0m\u001b[0;34m.\u001b[0m\u001b[0mreindex\u001b[0m\u001b[0;34m(\u001b[0m\u001b[0;34m**\u001b[0m\u001b[0;34m{\u001b[0m\u001b[0maxis_name\u001b[0m\u001b[0;34m:\u001b[0m \u001b[0mnew_axis\u001b[0m\u001b[0;34m}\u001b[0m\u001b[0;34m)\u001b[0m\u001b[0;34m\u001b[0m\u001b[0;34m\u001b[0m\u001b[0m\n\u001b[1;32m   3925\u001b[0m \u001b[0;34m\u001b[0m\u001b[0m\n",
            "\u001b[0;32m/usr/local/lib/python3.6/dist-packages/pandas/core/indexes/base.py\u001b[0m in \u001b[0;36mdrop\u001b[0;34m(self, labels, errors)\u001b[0m\n\u001b[1;32m   5285\u001b[0m         \u001b[0;32mif\u001b[0m \u001b[0mmask\u001b[0m\u001b[0;34m.\u001b[0m\u001b[0many\u001b[0m\u001b[0;34m(\u001b[0m\u001b[0;34m)\u001b[0m\u001b[0;34m:\u001b[0m\u001b[0;34m\u001b[0m\u001b[0;34m\u001b[0m\u001b[0m\n\u001b[1;32m   5286\u001b[0m             \u001b[0;32mif\u001b[0m \u001b[0merrors\u001b[0m \u001b[0;34m!=\u001b[0m \u001b[0;34m\"ignore\"\u001b[0m\u001b[0;34m:\u001b[0m\u001b[0;34m\u001b[0m\u001b[0;34m\u001b[0m\u001b[0m\n\u001b[0;32m-> 5287\u001b[0;31m                 \u001b[0;32mraise\u001b[0m \u001b[0mKeyError\u001b[0m\u001b[0;34m(\u001b[0m\u001b[0;34mf\"{labels[mask]} not found in axis\"\u001b[0m\u001b[0;34m)\u001b[0m\u001b[0;34m\u001b[0m\u001b[0;34m\u001b[0m\u001b[0m\n\u001b[0m\u001b[1;32m   5288\u001b[0m             \u001b[0mindexer\u001b[0m \u001b[0;34m=\u001b[0m \u001b[0mindexer\u001b[0m\u001b[0;34m[\u001b[0m\u001b[0;34m~\u001b[0m\u001b[0mmask\u001b[0m\u001b[0;34m]\u001b[0m\u001b[0;34m\u001b[0m\u001b[0;34m\u001b[0m\u001b[0m\n\u001b[1;32m   5289\u001b[0m         \u001b[0;32mreturn\u001b[0m \u001b[0mself\u001b[0m\u001b[0;34m.\u001b[0m\u001b[0mdelete\u001b[0m\u001b[0;34m(\u001b[0m\u001b[0mindexer\u001b[0m\u001b[0;34m)\u001b[0m\u001b[0;34m\u001b[0m\u001b[0;34m\u001b[0m\u001b[0m\n",
            "\u001b[0;31mKeyError\u001b[0m: \"['new_feature0'] not found in axis\""
          ]
        }
      ]
    },
    {
      "cell_type": "code",
      "metadata": {
        "id": "GesCXaIh538y",
        "colab": {
          "base_uri": "https://localhost:8080/"
        },
        "outputId": "258a1e19-c35f-4135-dc92-b55143d658a1"
      },
      "source": [
        "print(type(X_train))\r\n",
        "print(X_train['feature_1'])\r\n",
        "print(X_train['feature_2'])\r\n",
        "# for i in range(10): \r\n",
        "#   X_train['new_feature'+str(i)]=100\r\n",
        "# X_train['new_feature1']=\r\n",
        "\r\n",
        "X_train['new_feature9']=X_train['feature_1']/(X_train['feature_2']+1e-5)\r\n",
        "print(X_train)\r\n",
        "X_train=X_train.drop(['new_feature0','feature_1'],axis=1)\r\n",
        "print(X_train)"
      ],
      "execution_count": null,
      "outputs": [
        {
          "output_type": "stream",
          "text": [
            "<class 'pandas.core.frame.DataFrame'>\n",
            "0          3.151305\n",
            "2         -0.365888\n",
            "3          1.514607\n",
            "6         -1.008999\n",
            "7         -0.391784\n",
            "             ...   \n",
            "1862550    1.538675\n",
            "1862552    0.270380\n",
            "1862584   -0.134380\n",
            "1862587   -0.779554\n",
            "1862595   -1.463757\n",
            "Name: feature_1, Length: 1571415, dtype: float64\n",
            "0          5.467693\n",
            "2          0.824004\n",
            "3          0.596214\n",
            "6          0.242132\n",
            "7          0.152261\n",
            "             ...   \n",
            "1862550    2.530447\n",
            "1862552   -1.231874\n",
            "1862584    0.160580\n",
            "1862587   -0.597258\n",
            "1862595   -1.107228\n",
            "Name: feature_2, Length: 1571415, dtype: float64\n",
            "         feature_0  feature_1  ...  new_feature8  new_feature9\n",
            "0                1   3.151305  ...           100      0.576349\n",
            "2               -1  -0.365888  ...           100     -0.444031\n",
            "3                1   1.514607  ...           100      2.540332\n",
            "6               -1  -1.008999  ...           100     -4.166965\n",
            "7               -1  -0.391784  ...           100     -2.572940\n",
            "...            ...        ...  ...           ...           ...\n",
            "1862550         -1   1.538675  ...           100      0.608062\n",
            "1862552          1   0.270380  ...           100     -0.219488\n",
            "1862584         -1  -0.134380  ...           100     -0.836794\n",
            "1862587         -1  -0.779554  ...           100      1.305243\n",
            "1862595         -1  -1.463757  ...           100      1.322013\n",
            "\n",
            "[1571415 rows x 140 columns]\n",
            "         feature_0  feature_2  ...  new_feature8  new_feature9\n",
            "0                1   5.467693  ...           100      0.576349\n",
            "2               -1   0.824004  ...           100     -0.444031\n",
            "3                1   0.596214  ...           100      2.540332\n",
            "6               -1   0.242132  ...           100     -4.166965\n",
            "7               -1   0.152261  ...           100     -2.572940\n",
            "...            ...        ...  ...           ...           ...\n",
            "1862550         -1   2.530447  ...           100      0.608062\n",
            "1862552          1  -1.231874  ...           100     -0.219488\n",
            "1862584         -1   0.160580  ...           100     -0.836794\n",
            "1862587         -1  -0.597258  ...           100      1.305243\n",
            "1862595         -1  -1.107228  ...           100      1.322013\n",
            "\n",
            "[1571415 rows x 138 columns]\n"
          ],
          "name": "stdout"
        }
      ]
    },
    {
      "cell_type": "code",
      "metadata": {
        "id": "3u1-hh-pAvZ1"
      },
      "source": [
        ""
      ],
      "execution_count": null,
      "outputs": []
    },
    {
      "cell_type": "code",
      "metadata": {
        "id": "RsBS9exsCuEk"
      },
      "source": [
        ""
      ],
      "execution_count": null,
      "outputs": []
    },
    {
      "cell_type": "code",
      "metadata": {
        "id": "6iEjZz15pMIw"
      },
      "source": [
        "a=[[1,2,3],[4,5,6]]"
      ],
      "execution_count": null,
      "outputs": []
    },
    {
      "cell_type": "code",
      "metadata": {
        "id": "G3QboBr_UZ2X",
        "colab": {
          "base_uri": "https://localhost:8080/"
        },
        "outputId": "317e2ecc-1db1-4686-fb1b-8504591e937f"
      },
      "source": [
        "b=(a==1)\r\n",
        "print(b)"
      ],
      "execution_count": null,
      "outputs": [
        {
          "output_type": "stream",
          "text": [
            "True\n"
          ],
          "name": "stdout"
        }
      ]
    },
    {
      "cell_type": "code",
      "metadata": {
        "id": "UjXfc2fxUY5P",
        "colab": {
          "base_uri": "https://localhost:8080/",
          "height": 241
        },
        "outputId": "d5d7699f-0ae1-44af-f0a0-6add0c3b6139"
      },
      "source": [
        "print(train)\r\n",
        "a=(train['date']==86).astype(int)* (train['weight']<1).astype(int)\r\n",
        "print(a)\r\n",
        "# b=(train['weight']<1).astype(int)\r\n",
        "# print(b)\r\n",
        "# print(a * b)"
      ],
      "execution_count": null,
      "outputs": [
        {
          "output_type": "error",
          "ename": "NameError",
          "evalue": "ignored",
          "traceback": [
            "\u001b[0;31m---------------------------------------------------------------------------\u001b[0m",
            "\u001b[0;31mNameError\u001b[0m                                 Traceback (most recent call last)",
            "\u001b[0;32m<ipython-input-2-5b1bc4375dcd>\u001b[0m in \u001b[0;36m<module>\u001b[0;34m()\u001b[0m\n\u001b[0;32m----> 1\u001b[0;31m \u001b[0mprint\u001b[0m\u001b[0;34m(\u001b[0m\u001b[0mtrain\u001b[0m\u001b[0;34m)\u001b[0m\u001b[0;34m\u001b[0m\u001b[0;34m\u001b[0m\u001b[0m\n\u001b[0m\u001b[1;32m      2\u001b[0m \u001b[0ma\u001b[0m\u001b[0;34m=\u001b[0m\u001b[0;34m(\u001b[0m\u001b[0mtrain\u001b[0m\u001b[0;34m[\u001b[0m\u001b[0;34m'date'\u001b[0m\u001b[0;34m]\u001b[0m\u001b[0;34m==\u001b[0m\u001b[0;36m86\u001b[0m\u001b[0;34m)\u001b[0m\u001b[0;34m.\u001b[0m\u001b[0mastype\u001b[0m\u001b[0;34m(\u001b[0m\u001b[0mint\u001b[0m\u001b[0;34m)\u001b[0m\u001b[0;34m*\u001b[0m \u001b[0;34m(\u001b[0m\u001b[0mtrain\u001b[0m\u001b[0;34m[\u001b[0m\u001b[0;34m'weight'\u001b[0m\u001b[0;34m]\u001b[0m\u001b[0;34m<\u001b[0m\u001b[0;36m1\u001b[0m\u001b[0;34m)\u001b[0m\u001b[0;34m.\u001b[0m\u001b[0mastype\u001b[0m\u001b[0;34m(\u001b[0m\u001b[0mint\u001b[0m\u001b[0;34m)\u001b[0m\u001b[0;34m\u001b[0m\u001b[0;34m\u001b[0m\u001b[0m\n\u001b[1;32m      3\u001b[0m \u001b[0mprint\u001b[0m\u001b[0;34m(\u001b[0m\u001b[0ma\u001b[0m\u001b[0;34m)\u001b[0m\u001b[0;34m\u001b[0m\u001b[0;34m\u001b[0m\u001b[0m\n\u001b[1;32m      4\u001b[0m \u001b[0;31m# b=(train['weight']<1).astype(int)\u001b[0m\u001b[0;34m\u001b[0m\u001b[0;34m\u001b[0m\u001b[0;34m\u001b[0m\u001b[0m\n\u001b[1;32m      5\u001b[0m \u001b[0;31m# print(b)\u001b[0m\u001b[0;34m\u001b[0m\u001b[0;34m\u001b[0m\u001b[0;34m\u001b[0m\u001b[0m\n",
            "\u001b[0;31mNameError\u001b[0m: name 'train' is not defined"
          ]
        }
      ]
    },
    {
      "cell_type": "code",
      "metadata": {
        "id": "7r_3H-gIUXzW"
      },
      "source": [
        ""
      ],
      "execution_count": null,
      "outputs": []
    },
    {
      "cell_type": "code",
      "metadata": {
        "id": "pSn1UR_nW8eT"
      },
      "source": [
        ""
      ],
      "execution_count": null,
      "outputs": []
    }
  ]
}